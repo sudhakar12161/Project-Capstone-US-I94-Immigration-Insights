{
 "cells": [
  {
   "cell_type": "markdown",
   "metadata": {
    "editable": true
   },
   "source": [
    "# Capstone - 2016 Immigration and Temperature Data \n",
    "\n",
    "### Data Engineering Capstone Project\n",
    "\n",
    "#### Project Summary\n",
    "The goal of this project is to create an ETL pipeline using I94 immigration data and city temperature data to form a database that is optimized for queries on immigration events. This database can be used to answer questions relating immigration behavior to destination temperature e.g., do people tend to immigrate to warmer places?\n",
    "\n",
    "The project follows the follow steps:\n",
    "* Step 1: Scope the Project and Gather Data\n",
    "* Step 2: Explore and Assess the Data\n",
    "* Step 3: Define the Data Model\n",
    "* Step 4: Run ETL to Model the Data\n",
    "* Step 5: Complete Project Write Up"
   ]
  },
  {
   "cell_type": "code",
   "execution_count": 1,
   "metadata": {
    "editable": true
   },
   "outputs": [],
   "source": [
    "#Used below libraries\n",
    "import os\n",
    "from datetime import datetime,timedelta\n",
    "import pandas as pd, re\n",
    "from pyspark.sql import SparkSession\n",
    "from pyspark.sql.functions import udf\n",
    "from pyspark.sql import types as T\n",
    "from concurrent.futures import ThreadPoolExecutor\n",
    "import concurrent.futures\n",
    "import json"
   ]
  },
  {
   "cell_type": "markdown",
   "metadata": {
    "editable": true
   },
   "source": [
    "### Step 1: Scope the Project and Gather Data\n",
    "\n",
    "#### Scope \n",
    "In this project, we will aggregate I94 immigration data by destination city to form our first dimension table. Next we will aggregate city temperature data by city to form the second dimension table. The two datasets will be joined on destination city to form the fact table. The final database is optimized to query on immigration events to determine if temperature affects the selection of destination cities. Spark will be used to process the data.\n",
    "\n",
    "#### Describe and Gather Data \n",
    "Describe the data sets you're using. Where did it come from? What type of information is included? \n",
    "\n",
    "The [I94 immigration data](https://travel.trade.gov/research/reports/i94/historical/2016.html) comes from the US National Tourism and Trade Office. It is provided in SAS7BDAT format which is a binary database storage format. Please refer [I94_SAS_Labels_Descriptions.SAS]('I94_SAS_Labels_Descriptions.SAS') document for full reference. Some relevant attributes include:\n",
    "\n",
    "##### Source Type: __SAS Generated Data__ and __Static Text Files__\n",
    "\n",
    "* i94yr = 4 digit year\n",
    "* i94mon = numeric month\n",
    "* i94cit = 3 digit code of origin city\n",
    "* i94port = 3 character code of destination USA city\n",
    "* arrdate = arrival date in the USA\n",
    "* i94mode = 1 digit travel code\n",
    "* depdate = departure date from the USA\n",
    "* i94visa = reason for immigration\n",
    "\n",
    "The [temperature data](https://www.kaggle.com/berkeleyearth/climate-change-earth-surface-temperature-data) comes from Kaggle. It is provided in csv format. Some relevant attributes include:\n",
    "\n",
    "##### Source Type: __CSV Data__\n",
    "\n",
    "* Dt = date\n",
    "* AverageTemperature = average temperature\n",
    "* City = city name\n",
    "* Country = country name\n",
    "* Latitude= latitude\n",
    "* Longitude = longitude\n",
    "\n",
    "The [U.S. City Demographic Data](https://public.opendatasoft.com/explore/dataset/us-cities-demographics/export/) data comes from OpenSoft.\n",
    "\n",
    "##### Source Type: __JSON Data__\n",
    "\n",
    "* Average_Household_Size\n",
    "* City\n",
    "* Count\n",
    "* Female_Population\n",
    "* Foreign_Born\n",
    "* Male_Population\n",
    "* Median_Age\n",
    "* Number_of_Veterans\n",
    "* Race\n",
    "* State_Code\n",
    "* Total_Population\n",
    "* Record_Timestamp\n",
    "\n",
    "The [Airport Code Table](https://datahub.io/core/airport-codes#data) is a simple table of airport codes and corresponding cities.\n",
    "\n",
    "##### Source Type: __CSV Data__\n",
    "\n",
    "* Ident\n",
    "* Type \n",
    "* Name \n",
    "* Elevation_Ft \n",
    "* Continent \n",
    "* Iso_Country\n",
    "* Iso_Region \n",
    "* Municipality \n",
    "* Gps_Code \n",
    "* Iata_Code \n",
    "* Local_Code\n",
    "* Coordinates\n"
   ]
  },
  {
   "cell_type": "markdown",
   "metadata": {
    "editable": true
   },
   "source": [
    "### Step 2: Explore and Assess the Data\n",
    "#### Explore the Data \n",
    "* Read all sources into dataframes and explored the data\n",
    "* Fixed the Data Type issues and found the PK columns of the data set\n",
    "\n",
    "##### Immigration Data Analysis:\n",
    "\n",
    "\n",
    "1. Based on Sample data, assuming the columns will have 100% of data if below the count is 1000 else less than 100%\n",
    "* cicid     : 1000 Rows\n",
    "* i94yr     : 1000 Rows\n",
    "* i94mon    : 1000 Rows\n",
    "* i94cit    : 1000 Rows\n",
    "* i94res    : 1000 Rows\n",
    "* i94port   : 1000 Rows\n",
    "* arrdate   : 1000 Rows\n",
    "* i94mode   : 1000 Rows\n",
    "* i94addr   :  941 Rows\n",
    "* depdate   :  951 Rows\n",
    "* i94bir    : 1000 Rows\n",
    "* i94visa   : 1000 Rows\n",
    "* count     : 1000 Rows\n",
    "* dtadfile  : 1000 Rows\n",
    "* visapost  :  382 Rows\n",
    "* occup     :    4 Rows\n",
    "* entdepa   : 1000 Rows\n",
    "* entdepd   :  954 Rows\n",
    "* entdepu   :    0 Rows\n",
    "* matflag   :  954 Rows\n",
    "* biryear   : 1000 Rows\n",
    "* dtaddto   : 1000 Rows\n",
    "* gender    :  859 Rows\n",
    "* insnum    :   35 Rows\n",
    "* airline   :  967 Rows\n",
    "* admnum    : 1000 Rows\n",
    "* fltno     :  992 Rows\n",
    "* visatype  : 1000 Rows\n",
    "\n",
    "After analyzing the file, there are no duplicate records, so keeping all the data.\n",
    "\n",
    "**Note:** Other files data is stright forward, please see the sample data and analysis in Jupyter cells.\n",
    "\n",
    "#### Cleaning Steps\n",
    "* Converted the data types to the right format and dropped the duplicatesif there are any duplicates. Please refer steps below\n",
    "\n",
    "##### Immigration Data:\n",
    "\n",
    "1. Converting all non date fields to human readable date format and passing default date as 01/01/1900.\n",
    "2. Convert float data columns trypes to int.\n",
    "3. Remove * infront of Airline code.\n",
    "4. When reading other Text static files into dataframe, clean the signle quotes.\n",
    "\n",
    "##### US Demographic Data:\n",
    "\n",
    "1. Converting date in string format to date format.\n",
    "2. Convert float data columns trypes to int.\n",
    "3. Extract __fields__ dictionary into notmal fields and remove fields prefix from those.\n",
    "4. Extract City from **iso_region** \n"
   ]
  },
  {
   "cell_type": "code",
   "execution_count": 35,
   "metadata": {
    "editable": true
   },
   "outputs": [],
   "source": [
    "# Read immigration sample data\n",
    "df_immigration_pd = pd.read_csv('immigration_data_sample.csv',header=0)\n",
    "df_immigration_pd = df_immigration_pd.iloc[:,1:]"
   ]
  },
  {
   "cell_type": "code",
   "execution_count": 36,
   "metadata": {
    "editable": true
   },
   "outputs": [],
   "source": [
    "# Because the immigration data has 28 columns\n",
    "pd.set_option('display.max_columns', 28)"
   ]
  },
  {
   "cell_type": "code",
   "execution_count": 5,
   "metadata": {
    "editable": true
   },
   "outputs": [
    {
     "data": {
      "text/html": [
       "<div>\n",
       "<style scoped>\n",
       "    .dataframe tbody tr th:only-of-type {\n",
       "        vertical-align: middle;\n",
       "    }\n",
       "\n",
       "    .dataframe tbody tr th {\n",
       "        vertical-align: top;\n",
       "    }\n",
       "\n",
       "    .dataframe thead th {\n",
       "        text-align: right;\n",
       "    }\n",
       "</style>\n",
       "<table border=\"1\" class=\"dataframe\">\n",
       "  <thead>\n",
       "    <tr style=\"text-align: right;\">\n",
       "      <th></th>\n",
       "      <th>cicid</th>\n",
       "      <th>i94yr</th>\n",
       "      <th>i94mon</th>\n",
       "      <th>i94cit</th>\n",
       "      <th>i94res</th>\n",
       "      <th>i94port</th>\n",
       "      <th>arrdate</th>\n",
       "      <th>i94mode</th>\n",
       "      <th>i94addr</th>\n",
       "      <th>depdate</th>\n",
       "      <th>i94bir</th>\n",
       "      <th>i94visa</th>\n",
       "      <th>count</th>\n",
       "      <th>dtadfile</th>\n",
       "      <th>visapost</th>\n",
       "      <th>occup</th>\n",
       "      <th>entdepa</th>\n",
       "      <th>entdepd</th>\n",
       "      <th>entdepu</th>\n",
       "      <th>matflag</th>\n",
       "      <th>biryear</th>\n",
       "      <th>dtaddto</th>\n",
       "      <th>gender</th>\n",
       "      <th>insnum</th>\n",
       "      <th>airline</th>\n",
       "      <th>admnum</th>\n",
       "      <th>fltno</th>\n",
       "      <th>visatype</th>\n",
       "    </tr>\n",
       "  </thead>\n",
       "  <tbody>\n",
       "    <tr>\n",
       "      <th>0</th>\n",
       "      <td>4084316.0</td>\n",
       "      <td>2016.0</td>\n",
       "      <td>4.0</td>\n",
       "      <td>209.0</td>\n",
       "      <td>209.0</td>\n",
       "      <td>HHW</td>\n",
       "      <td>20566.0</td>\n",
       "      <td>1.0</td>\n",
       "      <td>HI</td>\n",
       "      <td>20573.0</td>\n",
       "      <td>61.0</td>\n",
       "      <td>2.0</td>\n",
       "      <td>1.0</td>\n",
       "      <td>20160422</td>\n",
       "      <td>NaN</td>\n",
       "      <td>NaN</td>\n",
       "      <td>G</td>\n",
       "      <td>O</td>\n",
       "      <td>NaN</td>\n",
       "      <td>M</td>\n",
       "      <td>1955.0</td>\n",
       "      <td>07202016</td>\n",
       "      <td>F</td>\n",
       "      <td>NaN</td>\n",
       "      <td>JL</td>\n",
       "      <td>5.658267e+10</td>\n",
       "      <td>00782</td>\n",
       "      <td>WT</td>\n",
       "    </tr>\n",
       "    <tr>\n",
       "      <th>1</th>\n",
       "      <td>4422636.0</td>\n",
       "      <td>2016.0</td>\n",
       "      <td>4.0</td>\n",
       "      <td>582.0</td>\n",
       "      <td>582.0</td>\n",
       "      <td>MCA</td>\n",
       "      <td>20567.0</td>\n",
       "      <td>1.0</td>\n",
       "      <td>TX</td>\n",
       "      <td>20568.0</td>\n",
       "      <td>26.0</td>\n",
       "      <td>2.0</td>\n",
       "      <td>1.0</td>\n",
       "      <td>20160423</td>\n",
       "      <td>MTR</td>\n",
       "      <td>NaN</td>\n",
       "      <td>G</td>\n",
       "      <td>R</td>\n",
       "      <td>NaN</td>\n",
       "      <td>M</td>\n",
       "      <td>1990.0</td>\n",
       "      <td>10222016</td>\n",
       "      <td>M</td>\n",
       "      <td>NaN</td>\n",
       "      <td>*GA</td>\n",
       "      <td>9.436200e+10</td>\n",
       "      <td>XBLNG</td>\n",
       "      <td>B2</td>\n",
       "    </tr>\n",
       "    <tr>\n",
       "      <th>2</th>\n",
       "      <td>1195600.0</td>\n",
       "      <td>2016.0</td>\n",
       "      <td>4.0</td>\n",
       "      <td>148.0</td>\n",
       "      <td>112.0</td>\n",
       "      <td>OGG</td>\n",
       "      <td>20551.0</td>\n",
       "      <td>1.0</td>\n",
       "      <td>FL</td>\n",
       "      <td>20571.0</td>\n",
       "      <td>76.0</td>\n",
       "      <td>2.0</td>\n",
       "      <td>1.0</td>\n",
       "      <td>20160407</td>\n",
       "      <td>NaN</td>\n",
       "      <td>NaN</td>\n",
       "      <td>G</td>\n",
       "      <td>O</td>\n",
       "      <td>NaN</td>\n",
       "      <td>M</td>\n",
       "      <td>1940.0</td>\n",
       "      <td>07052016</td>\n",
       "      <td>M</td>\n",
       "      <td>NaN</td>\n",
       "      <td>LH</td>\n",
       "      <td>5.578047e+10</td>\n",
       "      <td>00464</td>\n",
       "      <td>WT</td>\n",
       "    </tr>\n",
       "    <tr>\n",
       "      <th>3</th>\n",
       "      <td>5291768.0</td>\n",
       "      <td>2016.0</td>\n",
       "      <td>4.0</td>\n",
       "      <td>297.0</td>\n",
       "      <td>297.0</td>\n",
       "      <td>LOS</td>\n",
       "      <td>20572.0</td>\n",
       "      <td>1.0</td>\n",
       "      <td>CA</td>\n",
       "      <td>20581.0</td>\n",
       "      <td>25.0</td>\n",
       "      <td>2.0</td>\n",
       "      <td>1.0</td>\n",
       "      <td>20160428</td>\n",
       "      <td>DOH</td>\n",
       "      <td>NaN</td>\n",
       "      <td>G</td>\n",
       "      <td>O</td>\n",
       "      <td>NaN</td>\n",
       "      <td>M</td>\n",
       "      <td>1991.0</td>\n",
       "      <td>10272016</td>\n",
       "      <td>M</td>\n",
       "      <td>NaN</td>\n",
       "      <td>QR</td>\n",
       "      <td>9.478970e+10</td>\n",
       "      <td>00739</td>\n",
       "      <td>B2</td>\n",
       "    </tr>\n",
       "    <tr>\n",
       "      <th>4</th>\n",
       "      <td>985523.0</td>\n",
       "      <td>2016.0</td>\n",
       "      <td>4.0</td>\n",
       "      <td>111.0</td>\n",
       "      <td>111.0</td>\n",
       "      <td>CHM</td>\n",
       "      <td>20550.0</td>\n",
       "      <td>3.0</td>\n",
       "      <td>NY</td>\n",
       "      <td>20553.0</td>\n",
       "      <td>19.0</td>\n",
       "      <td>2.0</td>\n",
       "      <td>1.0</td>\n",
       "      <td>20160406</td>\n",
       "      <td>NaN</td>\n",
       "      <td>NaN</td>\n",
       "      <td>Z</td>\n",
       "      <td>K</td>\n",
       "      <td>NaN</td>\n",
       "      <td>M</td>\n",
       "      <td>1997.0</td>\n",
       "      <td>07042016</td>\n",
       "      <td>F</td>\n",
       "      <td>NaN</td>\n",
       "      <td>NaN</td>\n",
       "      <td>4.232257e+10</td>\n",
       "      <td>LAND</td>\n",
       "      <td>WT</td>\n",
       "    </tr>\n",
       "  </tbody>\n",
       "</table>\n",
       "</div>"
      ],
      "text/plain": [
       "       cicid   i94yr  i94mon  i94cit  i94res i94port  arrdate  i94mode  \\\n",
       "0  4084316.0  2016.0     4.0   209.0   209.0     HHW  20566.0      1.0   \n",
       "1  4422636.0  2016.0     4.0   582.0   582.0     MCA  20567.0      1.0   \n",
       "2  1195600.0  2016.0     4.0   148.0   112.0     OGG  20551.0      1.0   \n",
       "3  5291768.0  2016.0     4.0   297.0   297.0     LOS  20572.0      1.0   \n",
       "4   985523.0  2016.0     4.0   111.0   111.0     CHM  20550.0      3.0   \n",
       "\n",
       "  i94addr  depdate  i94bir  i94visa  count  dtadfile visapost occup entdepa  \\\n",
       "0      HI  20573.0    61.0      2.0    1.0  20160422      NaN   NaN       G   \n",
       "1      TX  20568.0    26.0      2.0    1.0  20160423      MTR   NaN       G   \n",
       "2      FL  20571.0    76.0      2.0    1.0  20160407      NaN   NaN       G   \n",
       "3      CA  20581.0    25.0      2.0    1.0  20160428      DOH   NaN       G   \n",
       "4      NY  20553.0    19.0      2.0    1.0  20160406      NaN   NaN       Z   \n",
       "\n",
       "  entdepd  entdepu matflag  biryear   dtaddto gender  insnum airline  \\\n",
       "0       O      NaN       M   1955.0  07202016      F     NaN      JL   \n",
       "1       R      NaN       M   1990.0  10222016      M     NaN     *GA   \n",
       "2       O      NaN       M   1940.0  07052016      M     NaN      LH   \n",
       "3       O      NaN       M   1991.0  10272016      M     NaN      QR   \n",
       "4       K      NaN       M   1997.0  07042016      F     NaN     NaN   \n",
       "\n",
       "         admnum  fltno visatype  \n",
       "0  5.658267e+10  00782       WT  \n",
       "1  9.436200e+10  XBLNG       B2  \n",
       "2  5.578047e+10  00464       WT  \n",
       "3  9.478970e+10  00739       B2  \n",
       "4  4.232257e+10   LAND       WT  "
      ]
     },
     "execution_count": 5,
     "metadata": {},
     "output_type": "execute_result"
    }
   ],
   "source": [
    "# Display sample data\n",
    "df_immigration_pd.head(5)"
   ]
  },
  {
   "cell_type": "code",
   "execution_count": 37,
   "metadata": {
    "editable": true
   },
   "outputs": [
    {
     "data": {
      "text/html": [
       "<div>\n",
       "<style scoped>\n",
       "    .dataframe tbody tr th:only-of-type {\n",
       "        vertical-align: middle;\n",
       "    }\n",
       "\n",
       "    .dataframe tbody tr th {\n",
       "        vertical-align: top;\n",
       "    }\n",
       "\n",
       "    .dataframe thead th {\n",
       "        text-align: right;\n",
       "    }\n",
       "</style>\n",
       "<table border=\"1\" class=\"dataframe\">\n",
       "  <thead>\n",
       "    <tr style=\"text-align: right;\">\n",
       "      <th></th>\n",
       "      <th>cicid</th>\n",
       "      <th>i94yr</th>\n",
       "      <th>i94mon</th>\n",
       "      <th>i94cit</th>\n",
       "      <th>i94res</th>\n",
       "      <th>i94port</th>\n",
       "      <th>arrdate</th>\n",
       "      <th>i94mode</th>\n",
       "      <th>i94addr</th>\n",
       "      <th>depdate</th>\n",
       "      <th>i94bir</th>\n",
       "      <th>i94visa</th>\n",
       "      <th>count</th>\n",
       "      <th>dtadfile</th>\n",
       "      <th>visapost</th>\n",
       "      <th>occup</th>\n",
       "      <th>entdepa</th>\n",
       "      <th>entdepd</th>\n",
       "      <th>entdepu</th>\n",
       "      <th>matflag</th>\n",
       "      <th>biryear</th>\n",
       "      <th>dtaddto</th>\n",
       "      <th>gender</th>\n",
       "      <th>insnum</th>\n",
       "      <th>airline</th>\n",
       "      <th>admnum</th>\n",
       "      <th>fltno</th>\n",
       "      <th>visatype</th>\n",
       "    </tr>\n",
       "  </thead>\n",
       "  <tbody>\n",
       "    <tr>\n",
       "      <th>3</th>\n",
       "      <td>5291768.0</td>\n",
       "      <td>2016.0</td>\n",
       "      <td>4.0</td>\n",
       "      <td>297.0</td>\n",
       "      <td>297.0</td>\n",
       "      <td>LOS</td>\n",
       "      <td>20572.0</td>\n",
       "      <td>1.0</td>\n",
       "      <td>CA</td>\n",
       "      <td>20581.0</td>\n",
       "      <td>25.0</td>\n",
       "      <td>2.0</td>\n",
       "      <td>1.0</td>\n",
       "      <td>20160428</td>\n",
       "      <td>DOH</td>\n",
       "      <td>NaN</td>\n",
       "      <td>G</td>\n",
       "      <td>O</td>\n",
       "      <td>NaN</td>\n",
       "      <td>M</td>\n",
       "      <td>1991.0</td>\n",
       "      <td>10272016</td>\n",
       "      <td>M</td>\n",
       "      <td>NaN</td>\n",
       "      <td>QR</td>\n",
       "      <td>9.478970e+10</td>\n",
       "      <td>00739</td>\n",
       "      <td>B2</td>\n",
       "    </tr>\n",
       "    <tr>\n",
       "      <th>9</th>\n",
       "      <td>13213.0</td>\n",
       "      <td>2016.0</td>\n",
       "      <td>4.0</td>\n",
       "      <td>116.0</td>\n",
       "      <td>116.0</td>\n",
       "      <td>LOS</td>\n",
       "      <td>20545.0</td>\n",
       "      <td>1.0</td>\n",
       "      <td>CA</td>\n",
       "      <td>20553.0</td>\n",
       "      <td>35.0</td>\n",
       "      <td>2.0</td>\n",
       "      <td>1.0</td>\n",
       "      <td>20160401</td>\n",
       "      <td>NaN</td>\n",
       "      <td>NaN</td>\n",
       "      <td>O</td>\n",
       "      <td>O</td>\n",
       "      <td>NaN</td>\n",
       "      <td>M</td>\n",
       "      <td>1981.0</td>\n",
       "      <td>06292016</td>\n",
       "      <td>NaN</td>\n",
       "      <td>NaN</td>\n",
       "      <td>AA</td>\n",
       "      <td>5.544979e+10</td>\n",
       "      <td>00109</td>\n",
       "      <td>WT</td>\n",
       "    </tr>\n",
       "    <tr>\n",
       "      <th>10</th>\n",
       "      <td>1230572.0</td>\n",
       "      <td>2016.0</td>\n",
       "      <td>4.0</td>\n",
       "      <td>438.0</td>\n",
       "      <td>438.0</td>\n",
       "      <td>LOS</td>\n",
       "      <td>20551.0</td>\n",
       "      <td>1.0</td>\n",
       "      <td>CA</td>\n",
       "      <td>20565.0</td>\n",
       "      <td>4.0</td>\n",
       "      <td>2.0</td>\n",
       "      <td>1.0</td>\n",
       "      <td>20160407</td>\n",
       "      <td>NaN</td>\n",
       "      <td>NaN</td>\n",
       "      <td>G</td>\n",
       "      <td>O</td>\n",
       "      <td>NaN</td>\n",
       "      <td>M</td>\n",
       "      <td>2012.0</td>\n",
       "      <td>07052016</td>\n",
       "      <td>F</td>\n",
       "      <td>NaN</td>\n",
       "      <td>QF</td>\n",
       "      <td>5.574381e+10</td>\n",
       "      <td>00015</td>\n",
       "      <td>WT</td>\n",
       "    </tr>\n",
       "    <tr>\n",
       "      <th>13</th>\n",
       "      <td>4916639.0</td>\n",
       "      <td>2016.0</td>\n",
       "      <td>4.0</td>\n",
       "      <td>260.0</td>\n",
       "      <td>260.0</td>\n",
       "      <td>LOS</td>\n",
       "      <td>20570.0</td>\n",
       "      <td>1.0</td>\n",
       "      <td>CA</td>\n",
       "      <td>20581.0</td>\n",
       "      <td>62.0</td>\n",
       "      <td>2.0</td>\n",
       "      <td>1.0</td>\n",
       "      <td>20160426</td>\n",
       "      <td>MNL</td>\n",
       "      <td>NaN</td>\n",
       "      <td>G</td>\n",
       "      <td>O</td>\n",
       "      <td>NaN</td>\n",
       "      <td>M</td>\n",
       "      <td>1954.0</td>\n",
       "      <td>10252016</td>\n",
       "      <td>F</td>\n",
       "      <td>NaN</td>\n",
       "      <td>EK</td>\n",
       "      <td>9.461277e+10</td>\n",
       "      <td>00215</td>\n",
       "      <td>B2</td>\n",
       "    </tr>\n",
       "    <tr>\n",
       "      <th>27</th>\n",
       "      <td>5070551.0</td>\n",
       "      <td>2016.0</td>\n",
       "      <td>4.0</td>\n",
       "      <td>213.0</td>\n",
       "      <td>213.0</td>\n",
       "      <td>LOS</td>\n",
       "      <td>20571.0</td>\n",
       "      <td>1.0</td>\n",
       "      <td>CA</td>\n",
       "      <td>20676.0</td>\n",
       "      <td>64.0</td>\n",
       "      <td>2.0</td>\n",
       "      <td>1.0</td>\n",
       "      <td>20160427</td>\n",
       "      <td>MDR</td>\n",
       "      <td>NaN</td>\n",
       "      <td>G</td>\n",
       "      <td>O</td>\n",
       "      <td>NaN</td>\n",
       "      <td>M</td>\n",
       "      <td>1952.0</td>\n",
       "      <td>10262016</td>\n",
       "      <td>M</td>\n",
       "      <td>NaN</td>\n",
       "      <td>QR</td>\n",
       "      <td>9.469486e+10</td>\n",
       "      <td>00739</td>\n",
       "      <td>B2</td>\n",
       "    </tr>\n",
       "  </tbody>\n",
       "</table>\n",
       "</div>"
      ],
      "text/plain": [
       "        cicid   i94yr  i94mon  i94cit  i94res i94port  arrdate  i94mode  \\\n",
       "3   5291768.0  2016.0     4.0   297.0   297.0     LOS  20572.0      1.0   \n",
       "9     13213.0  2016.0     4.0   116.0   116.0     LOS  20545.0      1.0   \n",
       "10  1230572.0  2016.0     4.0   438.0   438.0     LOS  20551.0      1.0   \n",
       "13  4916639.0  2016.0     4.0   260.0   260.0     LOS  20570.0      1.0   \n",
       "27  5070551.0  2016.0     4.0   213.0   213.0     LOS  20571.0      1.0   \n",
       "\n",
       "   i94addr  depdate  i94bir  i94visa  count  dtadfile visapost occup entdepa  \\\n",
       "3       CA  20581.0    25.0      2.0    1.0  20160428      DOH   NaN       G   \n",
       "9       CA  20553.0    35.0      2.0    1.0  20160401      NaN   NaN       O   \n",
       "10      CA  20565.0     4.0      2.0    1.0  20160407      NaN   NaN       G   \n",
       "13      CA  20581.0    62.0      2.0    1.0  20160426      MNL   NaN       G   \n",
       "27      CA  20676.0    64.0      2.0    1.0  20160427      MDR   NaN       G   \n",
       "\n",
       "   entdepd  entdepu matflag  biryear   dtaddto gender  insnum airline  \\\n",
       "3        O      NaN       M   1991.0  10272016      M     NaN      QR   \n",
       "9        O      NaN       M   1981.0  06292016    NaN     NaN      AA   \n",
       "10       O      NaN       M   2012.0  07052016      F     NaN      QF   \n",
       "13       O      NaN       M   1954.0  10252016      F     NaN      EK   \n",
       "27       O      NaN       M   1952.0  10262016      M     NaN      QR   \n",
       "\n",
       "          admnum  fltno visatype  \n",
       "3   9.478970e+10  00739       B2  \n",
       "9   5.544979e+10  00109       WT  \n",
       "10  5.574381e+10  00015       WT  \n",
       "13  9.461277e+10  00215       B2  \n",
       "27  9.469486e+10  00739       B2  "
      ]
     },
     "execution_count": 37,
     "metadata": {},
     "output_type": "execute_result"
    }
   ],
   "source": [
    "#Diplay sample data flights from 209\n",
    "df_immigration_pd.query('i94port==\"LOS\"').head(5)"
   ]
  },
  {
   "cell_type": "code",
   "execution_count": 7,
   "metadata": {
    "editable": true
   },
   "outputs": [
    {
     "data": {
      "text/plain": [
       "cicid       float64\n",
       "i94yr       float64\n",
       "i94mon      float64\n",
       "i94cit      float64\n",
       "i94res      float64\n",
       "i94port      object\n",
       "arrdate     float64\n",
       "i94mode     float64\n",
       "i94addr      object\n",
       "depdate     float64\n",
       "i94bir      float64\n",
       "i94visa     float64\n",
       "count       float64\n",
       "dtadfile      int64\n",
       "visapost     object\n",
       "occup        object\n",
       "entdepa      object\n",
       "entdepd      object\n",
       "entdepu     float64\n",
       "matflag      object\n",
       "biryear     float64\n",
       "dtaddto      object\n",
       "gender       object\n",
       "insnum      float64\n",
       "airline      object\n",
       "admnum      float64\n",
       "fltno        object\n",
       "visatype     object\n",
       "dtype: object"
      ]
     },
     "execution_count": 7,
     "metadata": {},
     "output_type": "execute_result"
    }
   ],
   "source": [
    "#Verify Data types\n",
    "df_immigration_pd.dtypes"
   ]
  },
  {
   "cell_type": "code",
   "execution_count": 8,
   "metadata": {
    "editable": true
   },
   "outputs": [
    {
     "data": {
      "text/plain": [
       "cicid       1000\n",
       "i94yr       1000\n",
       "i94mon      1000\n",
       "i94cit      1000\n",
       "i94res      1000\n",
       "i94port     1000\n",
       "arrdate     1000\n",
       "i94mode     1000\n",
       "i94addr      941\n",
       "depdate      951\n",
       "i94bir      1000\n",
       "i94visa     1000\n",
       "count       1000\n",
       "dtadfile    1000\n",
       "visapost     382\n",
       "occup          4\n",
       "entdepa     1000\n",
       "entdepd      954\n",
       "entdepu        0\n",
       "matflag      954\n",
       "biryear     1000\n",
       "dtaddto     1000\n",
       "gender       859\n",
       "insnum        35\n",
       "airline      967\n",
       "admnum      1000\n",
       "fltno        992\n",
       "visatype    1000\n",
       "dtype: int64"
      ]
     },
     "execution_count": 8,
     "metadata": {},
     "output_type": "execute_result"
    }
   ],
   "source": [
    "# Gives Count of non-NA cells for each column\n",
    "df_immigration_pd.count()"
   ]
  },
  {
   "cell_type": "code",
   "execution_count": 9,
   "metadata": {
    "editable": true
   },
   "outputs": [
    {
     "data": {
      "text/plain": [
       "1000"
      ]
     },
     "execution_count": 9,
     "metadata": {},
     "output_type": "execute_result"
    }
   ],
   "source": [
    "#Finding the PK column\n",
    "len(df_immigration_pd.admnum.unique())"
   ]
  },
  {
   "cell_type": "code",
   "execution_count": null,
   "metadata": {
    "editable": true
   },
   "outputs": [],
   "source": [
    "df_immigration_pd"
   ]
  },
  {
   "cell_type": "code",
   "execution_count": null,
   "metadata": {
    "editable": true
   },
   "outputs": [],
   "source": []
  },
  {
   "cell_type": "code",
   "execution_count": 2,
   "metadata": {
    "editable": true
   },
   "outputs": [
    {
     "name": "stdout",
     "output_type": "stream",
     "text": [
      "Extracted immigration_i94port_valid.txt file and loaded into Array.\n"
     ]
    }
   ],
   "source": [
    "# Create arrays for each field in i94port codes\n",
    "i94port_cd = []\n",
    "i94port_state = []\n",
    "i94port_city = []\n",
    "with open('immigration_i94port_valid.txt') as f:\n",
    "     for line in f:\n",
    "            line = line.rstrip().lstrip()\n",
    "            if line:\n",
    "                #print(line)\n",
    "                try:\n",
    "                    key = line.split('=')[0].rstrip().lstrip()[1:-1]\n",
    "                    val = line.split('=')[1].rstrip().lstrip()[1:-1].split(',')\n",
    "                    val1 = val[0]\n",
    "                    val2 = val[1].lstrip().rstrip()\n",
    "                    i94port_cd.append(key)\n",
    "                    i94port_state.append(val2)\n",
    "                    i94port_city.append(val1)\n",
    "                    \n",
    "                except IndexError:\n",
    "                    key = line.split('=')[0].rstrip().lstrip()[1:-1]\n",
    "                    val = line.split('=')[1].rstrip().lstrip()[1:-1].rstrip()\n",
    "                    i94port_cd.append(key)\n",
    "                    i94port_state.append('NaN')\n",
    "                    i94port_city.append(val)\n",
    "print('Extracted immigration_i94port_valid.txt file and loaded into Array.')"
   ]
  },
  {
   "cell_type": "code",
   "execution_count": 3,
   "metadata": {
    "editable": true
   },
   "outputs": [
    {
     "name": "stdout",
     "output_type": "stream",
     "text": [
      "I94 Port DIM DataFrame Created : df_i94ports_pd\n"
     ]
    }
   ],
   "source": [
    "#reate Pandas DataFrame from arrays and display sample records\n",
    "i94port_data = {\"Port_Code\":i94port_cd,\"State\":i94port_state,\"City\":i94port_city}\n",
    "df_i94ports_pd = pd.DataFrame(i94port_data)\n",
    "df_i94ports_pd.head(5)\n",
    "print('I94 Port DIM DataFrame Created : df_i94ports_pd')"
   ]
  },
  {
   "cell_type": "code",
   "execution_count": 12,
   "metadata": {
    "editable": true
   },
   "outputs": [
    {
     "data": {
      "text/plain": [
       "Port_Code    588\n",
       "State        588\n",
       "City         588\n",
       "dtype: int64"
      ]
     },
     "execution_count": 12,
     "metadata": {},
     "output_type": "execute_result"
    }
   ],
   "source": [
    "#Display counts\n",
    "df_i94ports_pd.count()"
   ]
  },
  {
   "cell_type": "code",
   "execution_count": 13,
   "metadata": {
    "editable": true
   },
   "outputs": [
    {
     "data": {
      "text/html": [
       "<div>\n",
       "<style scoped>\n",
       "    .dataframe tbody tr th:only-of-type {\n",
       "        vertical-align: middle;\n",
       "    }\n",
       "\n",
       "    .dataframe tbody tr th {\n",
       "        vertical-align: top;\n",
       "    }\n",
       "\n",
       "    .dataframe thead th {\n",
       "        text-align: right;\n",
       "    }\n",
       "</style>\n",
       "<table border=\"1\" class=\"dataframe\">\n",
       "  <thead>\n",
       "    <tr style=\"text-align: right;\">\n",
       "      <th></th>\n",
       "      <th>Port_Code</th>\n",
       "      <th>State</th>\n",
       "      <th>City</th>\n",
       "    </tr>\n",
       "  </thead>\n",
       "  <tbody>\n",
       "    <tr>\n",
       "      <th>28</th>\n",
       "      <td>MAP</td>\n",
       "      <td>NaN</td>\n",
       "      <td>MARIPOSA AZ</td>\n",
       "    </tr>\n",
       "    <tr>\n",
       "      <th>76</th>\n",
       "      <td>WAS</td>\n",
       "      <td>NaN</td>\n",
       "      <td>WASHINGTON DC</td>\n",
       "    </tr>\n",
       "    <tr>\n",
       "      <th>572</th>\n",
       "      <td>ZZZ</td>\n",
       "      <td>NaN</td>\n",
       "      <td>MEXICO Land (Banco de Mexico)</td>\n",
       "    </tr>\n",
       "    <tr>\n",
       "      <th>573</th>\n",
       "      <td>CHN</td>\n",
       "      <td>NaN</td>\n",
       "      <td>No PORT Code (CHN)</td>\n",
       "    </tr>\n",
       "    <tr>\n",
       "      <th>575</th>\n",
       "      <td>MAA</td>\n",
       "      <td>NaN</td>\n",
       "      <td>Abu Dhabi</td>\n",
       "    </tr>\n",
       "  </tbody>\n",
       "</table>\n",
       "</div>"
      ],
      "text/plain": [
       "    Port_Code State                           City\n",
       "28        MAP   NaN                    MARIPOSA AZ\n",
       "76        WAS   NaN                  WASHINGTON DC\n",
       "572       ZZZ   NaN  MEXICO Land (Banco de Mexico)\n",
       "573       CHN   NaN             No PORT Code (CHN)\n",
       "575       MAA   NaN                      Abu Dhabi"
      ]
     },
     "execution_count": 13,
     "metadata": {},
     "output_type": "execute_result"
    }
   ],
   "source": [
    "#Counting the bad State records\n",
    "df_i94ports_pd.query('State == \"NaN\"')"
   ]
  },
  {
   "cell_type": "code",
   "execution_count": 14,
   "metadata": {
    "editable": true
   },
   "outputs": [
    {
     "data": {
      "text/html": [
       "<div>\n",
       "<style scoped>\n",
       "    .dataframe tbody tr th:only-of-type {\n",
       "        vertical-align: middle;\n",
       "    }\n",
       "\n",
       "    .dataframe tbody tr th {\n",
       "        vertical-align: top;\n",
       "    }\n",
       "\n",
       "    .dataframe thead th {\n",
       "        text-align: right;\n",
       "    }\n",
       "</style>\n",
       "<table border=\"1\" class=\"dataframe\">\n",
       "  <thead>\n",
       "    <tr style=\"text-align: right;\">\n",
       "      <th></th>\n",
       "      <th>Port_Code</th>\n",
       "      <th>State</th>\n",
       "      <th>City</th>\n",
       "    </tr>\n",
       "  </thead>\n",
       "  <tbody>\n",
       "    <tr>\n",
       "      <th>44</th>\n",
       "      <td>LOS</td>\n",
       "      <td>CA</td>\n",
       "      <td>LOS ANGELES</td>\n",
       "    </tr>\n",
       "  </tbody>\n",
       "</table>\n",
       "</div>"
      ],
      "text/plain": [
       "   Port_Code State         City\n",
       "44       LOS    CA  LOS ANGELES"
      ]
     },
     "execution_count": 14,
     "metadata": {},
     "output_type": "execute_result"
    }
   ],
   "source": [
    "#Verifying the valid record\n",
    "df_i94ports_pd.query('Port_Code == \"LOS\"')"
   ]
  },
  {
   "cell_type": "code",
   "execution_count": 15,
   "metadata": {
    "editable": true
   },
   "outputs": [
    {
     "data": {
      "text/plain": [
       "Port_Code    object\n",
       "State        object\n",
       "City         object\n",
       "dtype: object"
      ]
     },
     "execution_count": 15,
     "metadata": {},
     "output_type": "execute_result"
    }
   ],
   "source": [
    "df_i94ports_pd.dtypes"
   ]
  },
  {
   "cell_type": "code",
   "execution_count": 4,
   "metadata": {
    "editable": true
   },
   "outputs": [
    {
     "name": "stdout",
     "output_type": "stream",
     "text": [
      "Extracted immigration_i94cit_valid.txt into : df_i94city_pd\n"
     ]
    }
   ],
   "source": [
    "#Reaading i94City file and saving in a DataFrame\n",
    "df_i94city_pd = pd.read_csv(\"immigration_i94cit_valid.txt\",sep=\"=\", names=[\"Code\",\"Country\"], header=None)\n",
    "print('Extracted immigration_i94cit_valid.txt into : df_i94city_pd')"
   ]
  },
  {
   "cell_type": "code",
   "execution_count": 17,
   "metadata": {
    "editable": true
   },
   "outputs": [
    {
     "data": {
      "text/html": [
       "<div>\n",
       "<style scoped>\n",
       "    .dataframe tbody tr th:only-of-type {\n",
       "        vertical-align: middle;\n",
       "    }\n",
       "\n",
       "    .dataframe tbody tr th {\n",
       "        vertical-align: top;\n",
       "    }\n",
       "\n",
       "    .dataframe thead th {\n",
       "        text-align: right;\n",
       "    }\n",
       "</style>\n",
       "<table border=\"1\" class=\"dataframe\">\n",
       "  <thead>\n",
       "    <tr style=\"text-align: right;\">\n",
       "      <th></th>\n",
       "      <th>Code</th>\n",
       "      <th>Country</th>\n",
       "    </tr>\n",
       "  </thead>\n",
       "  <tbody>\n",
       "    <tr>\n",
       "      <th>0</th>\n",
       "      <td>582</td>\n",
       "      <td>'MEXICO Air Sea, and Not Reported (I-94, no ...</td>\n",
       "    </tr>\n",
       "    <tr>\n",
       "      <th>1</th>\n",
       "      <td>236</td>\n",
       "      <td>'AFGHANISTAN'</td>\n",
       "    </tr>\n",
       "    <tr>\n",
       "      <th>2</th>\n",
       "      <td>101</td>\n",
       "      <td>'ALBANIA'</td>\n",
       "    </tr>\n",
       "    <tr>\n",
       "      <th>3</th>\n",
       "      <td>316</td>\n",
       "      <td>'ALGERIA'</td>\n",
       "    </tr>\n",
       "    <tr>\n",
       "      <th>4</th>\n",
       "      <td>102</td>\n",
       "      <td>'ANDORRA'</td>\n",
       "    </tr>\n",
       "  </tbody>\n",
       "</table>\n",
       "</div>"
      ],
      "text/plain": [
       "   Code                                            Country\n",
       "0   582    'MEXICO Air Sea, and Not Reported (I-94, no ...\n",
       "1   236                                      'AFGHANISTAN'\n",
       "2   101                                          'ALBANIA'\n",
       "3   316                                          'ALGERIA'\n",
       "4   102                                          'ANDORRA'"
      ]
     },
     "execution_count": 17,
     "metadata": {},
     "output_type": "execute_result"
    }
   ],
   "source": [
    "df_i94city_pd.head(5)"
   ]
  },
  {
   "cell_type": "code",
   "execution_count": 5,
   "metadata": {
    "editable": true
   },
   "outputs": [
    {
     "data": {
      "text/plain": [
       "Code        int64\n",
       "Country    object\n",
       "dtype: object"
      ]
     },
     "execution_count": 5,
     "metadata": {},
     "output_type": "execute_result"
    }
   ],
   "source": [
    "#Removing quotes around the Country\n",
    "df_i94city_pd[\"Country\"] = df_i94city_pd[\"Country\"].apply(lambda x: x.lstrip().rstrip()[1:-1])\n",
    "df_i94city_pd.dtypes"
   ]
  },
  {
   "cell_type": "code",
   "execution_count": 19,
   "metadata": {
    "editable": true
   },
   "outputs": [
    {
     "data": {
      "text/html": [
       "<div>\n",
       "<style scoped>\n",
       "    .dataframe tbody tr th:only-of-type {\n",
       "        vertical-align: middle;\n",
       "    }\n",
       "\n",
       "    .dataframe tbody tr th {\n",
       "        vertical-align: top;\n",
       "    }\n",
       "\n",
       "    .dataframe thead th {\n",
       "        text-align: right;\n",
       "    }\n",
       "</style>\n",
       "<table border=\"1\" class=\"dataframe\">\n",
       "  <thead>\n",
       "    <tr style=\"text-align: right;\">\n",
       "      <th></th>\n",
       "      <th>Code</th>\n",
       "      <th>Country</th>\n",
       "    </tr>\n",
       "  </thead>\n",
       "  <tbody>\n",
       "    <tr>\n",
       "      <th>0</th>\n",
       "      <td>582</td>\n",
       "      <td>MEXICO Air Sea, and Not Reported (I-94, no lan...</td>\n",
       "    </tr>\n",
       "    <tr>\n",
       "      <th>1</th>\n",
       "      <td>236</td>\n",
       "      <td>AFGHANISTAN</td>\n",
       "    </tr>\n",
       "    <tr>\n",
       "      <th>2</th>\n",
       "      <td>101</td>\n",
       "      <td>ALBANIA</td>\n",
       "    </tr>\n",
       "    <tr>\n",
       "      <th>3</th>\n",
       "      <td>316</td>\n",
       "      <td>ALGERIA</td>\n",
       "    </tr>\n",
       "    <tr>\n",
       "      <th>4</th>\n",
       "      <td>102</td>\n",
       "      <td>ANDORRA</td>\n",
       "    </tr>\n",
       "  </tbody>\n",
       "</table>\n",
       "</div>"
      ],
      "text/plain": [
       "   Code                                            Country\n",
       "0   582  MEXICO Air Sea, and Not Reported (I-94, no lan...\n",
       "1   236                                        AFGHANISTAN\n",
       "2   101                                            ALBANIA\n",
       "3   316                                            ALGERIA\n",
       "4   102                                            ANDORRA"
      ]
     },
     "execution_count": 19,
     "metadata": {},
     "output_type": "execute_result"
    }
   ],
   "source": [
    "df_i94city_pd.head(5)"
   ]
  },
  {
   "cell_type": "code",
   "execution_count": 6,
   "metadata": {
    "editable": true
   },
   "outputs": [
    {
     "data": {
      "text/html": [
       "<div>\n",
       "<style scoped>\n",
       "    .dataframe tbody tr th:only-of-type {\n",
       "        vertical-align: middle;\n",
       "    }\n",
       "\n",
       "    .dataframe tbody tr th {\n",
       "        vertical-align: top;\n",
       "    }\n",
       "\n",
       "    .dataframe thead th {\n",
       "        text-align: right;\n",
       "    }\n",
       "</style>\n",
       "<table border=\"1\" class=\"dataframe\">\n",
       "  <thead>\n",
       "    <tr style=\"text-align: right;\">\n",
       "      <th></th>\n",
       "      <th>State_Code</th>\n",
       "      <th>State</th>\n",
       "    </tr>\n",
       "  </thead>\n",
       "  <tbody>\n",
       "    <tr>\n",
       "      <th>0</th>\n",
       "      <td>'AL'</td>\n",
       "      <td>'ALABAMA'</td>\n",
       "    </tr>\n",
       "    <tr>\n",
       "      <th>1</th>\n",
       "      <td>'AK'</td>\n",
       "      <td>'ALASKA'</td>\n",
       "    </tr>\n",
       "    <tr>\n",
       "      <th>2</th>\n",
       "      <td>'AZ'</td>\n",
       "      <td>'ARIZONA'</td>\n",
       "    </tr>\n",
       "    <tr>\n",
       "      <th>3</th>\n",
       "      <td>'AR'</td>\n",
       "      <td>'ARKANSAS'</td>\n",
       "    </tr>\n",
       "    <tr>\n",
       "      <th>4</th>\n",
       "      <td>'CA'</td>\n",
       "      <td>'CALIFORNIA'</td>\n",
       "    </tr>\n",
       "  </tbody>\n",
       "</table>\n",
       "</div>"
      ],
      "text/plain": [
       "  State_Code         State\n",
       "0       'AL'     'ALABAMA'\n",
       "1       'AK'      'ALASKA'\n",
       "2       'AZ'     'ARIZONA'\n",
       "3       'AR'    'ARKANSAS'\n",
       "4       'CA'  'CALIFORNIA'"
      ]
     },
     "execution_count": 6,
     "metadata": {},
     "output_type": "execute_result"
    }
   ],
   "source": [
    "df_i94addr_pd = pd.read_csv(\"immigration_i94addr_valid.txt\", sep=\"=\",names =[\"State_Code\",\"State\"],header=None)\n",
    "df_i94addr_pd.head(5)"
   ]
  },
  {
   "cell_type": "code",
   "execution_count": 7,
   "metadata": {
    "editable": true
   },
   "outputs": [
    {
     "data": {
      "text/html": [
       "<div>\n",
       "<style scoped>\n",
       "    .dataframe tbody tr th:only-of-type {\n",
       "        vertical-align: middle;\n",
       "    }\n",
       "\n",
       "    .dataframe tbody tr th {\n",
       "        vertical-align: top;\n",
       "    }\n",
       "\n",
       "    .dataframe thead th {\n",
       "        text-align: right;\n",
       "    }\n",
       "</style>\n",
       "<table border=\"1\" class=\"dataframe\">\n",
       "  <thead>\n",
       "    <tr style=\"text-align: right;\">\n",
       "      <th></th>\n",
       "      <th>State_Code</th>\n",
       "      <th>State</th>\n",
       "    </tr>\n",
       "  </thead>\n",
       "  <tbody>\n",
       "    <tr>\n",
       "      <th>0</th>\n",
       "      <td>AL</td>\n",
       "      <td>ALABAMA</td>\n",
       "    </tr>\n",
       "    <tr>\n",
       "      <th>1</th>\n",
       "      <td>AK</td>\n",
       "      <td>ALASKA</td>\n",
       "    </tr>\n",
       "    <tr>\n",
       "      <th>2</th>\n",
       "      <td>AZ</td>\n",
       "      <td>ARIZONA</td>\n",
       "    </tr>\n",
       "    <tr>\n",
       "      <th>3</th>\n",
       "      <td>AR</td>\n",
       "      <td>ARKANSAS</td>\n",
       "    </tr>\n",
       "    <tr>\n",
       "      <th>4</th>\n",
       "      <td>CA</td>\n",
       "      <td>CALIFORNIA</td>\n",
       "    </tr>\n",
       "  </tbody>\n",
       "</table>\n",
       "</div>"
      ],
      "text/plain": [
       "  State_Code       State\n",
       "0         AL     ALABAMA\n",
       "1         AK      ALASKA\n",
       "2         AZ     ARIZONA\n",
       "3         AR    ARKANSAS\n",
       "4         CA  CALIFORNIA"
      ]
     },
     "execution_count": 7,
     "metadata": {},
     "output_type": "execute_result"
    }
   ],
   "source": [
    "#Cleaned single quotes around the data\n",
    "df_i94addr_pd[\"State_Code\"] = df_i94addr_pd[\"State_Code\"].apply(lambda x : x.lstrip().rstrip()[1:-1])\n",
    "df_i94addr_pd[\"State\"] = df_i94addr_pd[\"State\"].apply(lambda x : x.lstrip().rstrip()[1:-1])\n",
    "df_i94addr_pd.head(5)"
   ]
  },
  {
   "cell_type": "code",
   "execution_count": 22,
   "metadata": {
    "editable": true
   },
   "outputs": [
    {
     "data": {
      "text/plain": [
       "State_Code    object\n",
       "State         object\n",
       "dtype: object"
      ]
     },
     "execution_count": 22,
     "metadata": {},
     "output_type": "execute_result"
    }
   ],
   "source": [
    "df_i94addr_pd.dtypes"
   ]
  },
  {
   "cell_type": "code",
   "execution_count": 8,
   "metadata": {
    "editable": true
   },
   "outputs": [
    {
     "data": {
      "text/html": [
       "<div>\n",
       "<style scoped>\n",
       "    .dataframe tbody tr th:only-of-type {\n",
       "        vertical-align: middle;\n",
       "    }\n",
       "\n",
       "    .dataframe tbody tr th {\n",
       "        vertical-align: top;\n",
       "    }\n",
       "\n",
       "    .dataframe thead th {\n",
       "        text-align: right;\n",
       "    }\n",
       "</style>\n",
       "<table border=\"1\" class=\"dataframe\">\n",
       "  <thead>\n",
       "    <tr style=\"text-align: right;\">\n",
       "      <th></th>\n",
       "      <th>VISA_Code</th>\n",
       "      <th>VISA_Desc</th>\n",
       "    </tr>\n",
       "  </thead>\n",
       "  <tbody>\n",
       "    <tr>\n",
       "      <th>0</th>\n",
       "      <td>1</td>\n",
       "      <td>'Business'</td>\n",
       "    </tr>\n",
       "    <tr>\n",
       "      <th>1</th>\n",
       "      <td>2</td>\n",
       "      <td>'Pleasure'</td>\n",
       "    </tr>\n",
       "    <tr>\n",
       "      <th>2</th>\n",
       "      <td>3</td>\n",
       "      <td>'Student'</td>\n",
       "    </tr>\n",
       "  </tbody>\n",
       "</table>\n",
       "</div>"
      ],
      "text/plain": [
       "   VISA_Code    VISA_Desc\n",
       "0          1   'Business'\n",
       "1          2   'Pleasure'\n",
       "2          3    'Student'"
      ]
     },
     "execution_count": 8,
     "metadata": {},
     "output_type": "execute_result"
    }
   ],
   "source": [
    "#reading and clening VISA DIM data\n",
    "df_i94visa_pd = pd.read_csv(\"immigration_i94visa_valid.txt\", sep=\",\",names =[\"VISA_Code\",\"VISA_Desc\"],header=None)\n",
    "df_i94visa_pd.head()"
   ]
  },
  {
   "cell_type": "code",
   "execution_count": 9,
   "metadata": {
    "editable": true
   },
   "outputs": [
    {
     "data": {
      "text/html": [
       "<div>\n",
       "<style scoped>\n",
       "    .dataframe tbody tr th:only-of-type {\n",
       "        vertical-align: middle;\n",
       "    }\n",
       "\n",
       "    .dataframe tbody tr th {\n",
       "        vertical-align: top;\n",
       "    }\n",
       "\n",
       "    .dataframe thead th {\n",
       "        text-align: right;\n",
       "    }\n",
       "</style>\n",
       "<table border=\"1\" class=\"dataframe\">\n",
       "  <thead>\n",
       "    <tr style=\"text-align: right;\">\n",
       "      <th></th>\n",
       "      <th>VISA_Code</th>\n",
       "      <th>VISA_Desc</th>\n",
       "    </tr>\n",
       "  </thead>\n",
       "  <tbody>\n",
       "    <tr>\n",
       "      <th>0</th>\n",
       "      <td>1</td>\n",
       "      <td>Business</td>\n",
       "    </tr>\n",
       "    <tr>\n",
       "      <th>1</th>\n",
       "      <td>2</td>\n",
       "      <td>Pleasure</td>\n",
       "    </tr>\n",
       "    <tr>\n",
       "      <th>2</th>\n",
       "      <td>3</td>\n",
       "      <td>Student</td>\n",
       "    </tr>\n",
       "  </tbody>\n",
       "</table>\n",
       "</div>"
      ],
      "text/plain": [
       "   VISA_Code VISA_Desc\n",
       "0          1  Business\n",
       "1          2  Pleasure\n",
       "2          3   Student"
      ]
     },
     "execution_count": 9,
     "metadata": {},
     "output_type": "execute_result"
    }
   ],
   "source": [
    "#Cleaning single quotes\n",
    "df_i94visa_pd[\"VISA_Desc\"] = df_i94visa_pd[\"VISA_Desc\"].apply(lambda x : x.lstrip().rstrip()[1:-1])\n",
    "df_i94visa_pd.head()"
   ]
  },
  {
   "cell_type": "code",
   "execution_count": 11,
   "metadata": {
    "editable": true
   },
   "outputs": [
    {
     "data": {
      "text/html": [
       "<div>\n",
       "<style scoped>\n",
       "    .dataframe tbody tr th:only-of-type {\n",
       "        vertical-align: middle;\n",
       "    }\n",
       "\n",
       "    .dataframe tbody tr th {\n",
       "        vertical-align: top;\n",
       "    }\n",
       "\n",
       "    .dataframe thead th {\n",
       "        text-align: right;\n",
       "    }\n",
       "</style>\n",
       "<table border=\"1\" class=\"dataframe\">\n",
       "  <thead>\n",
       "    <tr style=\"text-align: right;\">\n",
       "      <th></th>\n",
       "      <th>Entry_Code</th>\n",
       "      <th>Entry_Desc</th>\n",
       "    </tr>\n",
       "  </thead>\n",
       "  <tbody>\n",
       "    <tr>\n",
       "      <th>0</th>\n",
       "      <td>1</td>\n",
       "      <td>'Air'</td>\n",
       "    </tr>\n",
       "    <tr>\n",
       "      <th>1</th>\n",
       "      <td>2</td>\n",
       "      <td>'Sea'</td>\n",
       "    </tr>\n",
       "    <tr>\n",
       "      <th>2</th>\n",
       "      <td>3</td>\n",
       "      <td>'Land'</td>\n",
       "    </tr>\n",
       "    <tr>\n",
       "      <th>3</th>\n",
       "      <td>9</td>\n",
       "      <td>'Not reported'</td>\n",
       "    </tr>\n",
       "  </tbody>\n",
       "</table>\n",
       "</div>"
      ],
      "text/plain": [
       "   Entry_Code       Entry_Desc\n",
       "0           1            'Air'\n",
       "1           2            'Sea'\n",
       "2           3           'Land'\n",
       "3           9   'Not reported'"
      ]
     },
     "execution_count": 11,
     "metadata": {},
     "output_type": "execute_result"
    }
   ],
   "source": [
    "#reading and clening VISA mode data\n",
    "df_i94mode_pd = pd.read_csv(\"immigration_i94mode_valid.txt\", sep=\",\",names =[\"Entry_Code\",\"Entry_Desc\"],header=None)\n",
    "df_i94mode_pd.head()"
   ]
  },
  {
   "cell_type": "code",
   "execution_count": 12,
   "metadata": {
    "editable": true
   },
   "outputs": [
    {
     "data": {
      "text/html": [
       "<div>\n",
       "<style scoped>\n",
       "    .dataframe tbody tr th:only-of-type {\n",
       "        vertical-align: middle;\n",
       "    }\n",
       "\n",
       "    .dataframe tbody tr th {\n",
       "        vertical-align: top;\n",
       "    }\n",
       "\n",
       "    .dataframe thead th {\n",
       "        text-align: right;\n",
       "    }\n",
       "</style>\n",
       "<table border=\"1\" class=\"dataframe\">\n",
       "  <thead>\n",
       "    <tr style=\"text-align: right;\">\n",
       "      <th></th>\n",
       "      <th>Entry_Code</th>\n",
       "      <th>Entry_Desc</th>\n",
       "    </tr>\n",
       "  </thead>\n",
       "  <tbody>\n",
       "    <tr>\n",
       "      <th>0</th>\n",
       "      <td>1</td>\n",
       "      <td>Air</td>\n",
       "    </tr>\n",
       "    <tr>\n",
       "      <th>1</th>\n",
       "      <td>2</td>\n",
       "      <td>Sea</td>\n",
       "    </tr>\n",
       "    <tr>\n",
       "      <th>2</th>\n",
       "      <td>3</td>\n",
       "      <td>Land</td>\n",
       "    </tr>\n",
       "    <tr>\n",
       "      <th>3</th>\n",
       "      <td>9</td>\n",
       "      <td>Not reported</td>\n",
       "    </tr>\n",
       "  </tbody>\n",
       "</table>\n",
       "</div>"
      ],
      "text/plain": [
       "   Entry_Code    Entry_Desc\n",
       "0           1           Air\n",
       "1           2           Sea\n",
       "2           3          Land\n",
       "3           9  Not reported"
      ]
     },
     "execution_count": 12,
     "metadata": {},
     "output_type": "execute_result"
    }
   ],
   "source": [
    "#Cleaning single quotes\n",
    "df_i94mode_pd[\"Entry_Desc\"] = df_i94mode_pd[\"Entry_Desc\"].apply(lambda x : x.lstrip().rstrip()[1:-1])\n",
    "df_i94mode_pd.head()"
   ]
  },
  {
   "cell_type": "code",
   "execution_count": 27,
   "metadata": {
    "editable": true
   },
   "outputs": [
    {
     "data": {
      "text/plain": [
       "Entry_Code     int64\n",
       "Entry_Desc    object\n",
       "dtype: object"
      ]
     },
     "execution_count": 27,
     "metadata": {},
     "output_type": "execute_result"
    }
   ],
   "source": [
    "df_i94mode_pd.dtypes"
   ]
  },
  {
   "cell_type": "code",
   "execution_count": 13,
   "metadata": {
    "editable": true
   },
   "outputs": [
    {
     "data": {
      "text/plain": [
       "dt                                object\n",
       "AverageTemperature               float64\n",
       "AverageTemperatureUncertainty    float64\n",
       "City                              object\n",
       "Country                           object\n",
       "Latitude                          object\n",
       "Longitude                         object\n",
       "dtype: object"
      ]
     },
     "execution_count": 13,
     "metadata": {},
     "output_type": "execute_result"
    }
   ],
   "source": [
    "#Reading Global Weather Data\n",
    "df_global_temp = pd.read_csv('../../data2/GlobalLandTemperaturesByCity.csv',header=0)\n",
    "df_global_temp.dtypes"
   ]
  },
  {
   "cell_type": "code",
   "execution_count": 29,
   "metadata": {
    "editable": true
   },
   "outputs": [
    {
     "data": {
      "text/html": [
       "<div>\n",
       "<style scoped>\n",
       "    .dataframe tbody tr th:only-of-type {\n",
       "        vertical-align: middle;\n",
       "    }\n",
       "\n",
       "    .dataframe tbody tr th {\n",
       "        vertical-align: top;\n",
       "    }\n",
       "\n",
       "    .dataframe thead th {\n",
       "        text-align: right;\n",
       "    }\n",
       "</style>\n",
       "<table border=\"1\" class=\"dataframe\">\n",
       "  <thead>\n",
       "    <tr style=\"text-align: right;\">\n",
       "      <th></th>\n",
       "      <th>dt</th>\n",
       "      <th>AverageTemperature</th>\n",
       "      <th>AverageTemperatureUncertainty</th>\n",
       "      <th>City</th>\n",
       "      <th>Country</th>\n",
       "      <th>Latitude</th>\n",
       "      <th>Longitude</th>\n",
       "    </tr>\n",
       "  </thead>\n",
       "  <tbody>\n",
       "    <tr>\n",
       "      <th>4356748</th>\n",
       "      <td>1849-01-01</td>\n",
       "      <td>8.819</td>\n",
       "      <td>2.558</td>\n",
       "      <td>Los Angeles</td>\n",
       "      <td>United States</td>\n",
       "      <td>34.56N</td>\n",
       "      <td>118.70W</td>\n",
       "    </tr>\n",
       "    <tr>\n",
       "      <th>4356749</th>\n",
       "      <td>1849-02-01</td>\n",
       "      <td>9.577</td>\n",
       "      <td>1.970</td>\n",
       "      <td>Los Angeles</td>\n",
       "      <td>United States</td>\n",
       "      <td>34.56N</td>\n",
       "      <td>118.70W</td>\n",
       "    </tr>\n",
       "  </tbody>\n",
       "</table>\n",
       "</div>"
      ],
      "text/plain": [
       "                 dt  AverageTemperature  AverageTemperatureUncertainty  \\\n",
       "4356748  1849-01-01               8.819                          2.558   \n",
       "4356749  1849-02-01               9.577                          1.970   \n",
       "\n",
       "                City        Country Latitude Longitude  \n",
       "4356748  Los Angeles  United States   34.56N   118.70W  \n",
       "4356749  Los Angeles  United States   34.56N   118.70W  "
      ]
     },
     "execution_count": 29,
     "metadata": {},
     "output_type": "execute_result"
    }
   ],
   "source": [
    "#Finding Los Angeles record\n",
    "df_global_temp.query('City == \"Los Angeles\" and Country == \"United States\"').head(2)"
   ]
  },
  {
   "cell_type": "code",
   "execution_count": 30,
   "metadata": {
    "editable": true
   },
   "outputs": [
    {
     "data": {
      "text/plain": [
       "0   -1\n",
       "Name: dt, dtype: int64"
      ]
     },
     "execution_count": 30,
     "metadata": {},
     "output_type": "execute_result"
    }
   ],
   "source": [
    "#Verifying Date format\n",
    "df_global_temp.dt.apply(lambda x : x.find(\"/\")).head(1)"
   ]
  },
  {
   "cell_type": "code",
   "execution_count": 14,
   "metadata": {
    "editable": true
   },
   "outputs": [
    {
     "data": {
      "text/plain": [
       "dt                               datetime64[ns]\n",
       "AverageTemperature                      float64\n",
       "AverageTemperatureUncertainty           float64\n",
       "City                                     object\n",
       "Country                                  object\n",
       "Latitude                                 object\n",
       "Longitude                                object\n",
       "dtype: object"
      ]
     },
     "execution_count": 14,
     "metadata": {},
     "output_type": "execute_result"
    }
   ],
   "source": [
    "#Converting dt from string to date data type\n",
    "df_global_temp['dt'] =  pd.to_datetime(df_global_temp['dt'])\n",
    "df_global_temp.dtypes"
   ]
  },
  {
   "cell_type": "code",
   "execution_count": 15,
   "metadata": {
    "editable": true
   },
   "outputs": [
    {
     "data": {
      "text/html": [
       "<div>\n",
       "<style scoped>\n",
       "    .dataframe tbody tr th:only-of-type {\n",
       "        vertical-align: middle;\n",
       "    }\n",
       "\n",
       "    .dataframe tbody tr th {\n",
       "        vertical-align: top;\n",
       "    }\n",
       "\n",
       "    .dataframe thead th {\n",
       "        text-align: right;\n",
       "    }\n",
       "</style>\n",
       "<table border=\"1\" class=\"dataframe\">\n",
       "  <thead>\n",
       "    <tr style=\"text-align: right;\">\n",
       "      <th></th>\n",
       "      <th>dt</th>\n",
       "      <th>AverageTemperature</th>\n",
       "      <th>AverageTemperatureUncertainty</th>\n",
       "      <th>City</th>\n",
       "      <th>Country</th>\n",
       "      <th>Latitude</th>\n",
       "      <th>Longitude</th>\n",
       "    </tr>\n",
       "  </thead>\n",
       "  <tbody>\n",
       "    <tr>\n",
       "      <th>0</th>\n",
       "      <td>1743-11-01</td>\n",
       "      <td>6.068</td>\n",
       "      <td>1.737</td>\n",
       "      <td>Århus</td>\n",
       "      <td>Denmark</td>\n",
       "      <td>57.05N</td>\n",
       "      <td>10.33E</td>\n",
       "    </tr>\n",
       "    <tr>\n",
       "      <th>1</th>\n",
       "      <td>1743-12-01</td>\n",
       "      <td>NaN</td>\n",
       "      <td>NaN</td>\n",
       "      <td>Århus</td>\n",
       "      <td>Denmark</td>\n",
       "      <td>57.05N</td>\n",
       "      <td>10.33E</td>\n",
       "    </tr>\n",
       "    <tr>\n",
       "      <th>2</th>\n",
       "      <td>1744-01-01</td>\n",
       "      <td>NaN</td>\n",
       "      <td>NaN</td>\n",
       "      <td>Århus</td>\n",
       "      <td>Denmark</td>\n",
       "      <td>57.05N</td>\n",
       "      <td>10.33E</td>\n",
       "    </tr>\n",
       "  </tbody>\n",
       "</table>\n",
       "</div>"
      ],
      "text/plain": [
       "          dt  AverageTemperature  AverageTemperatureUncertainty   City  \\\n",
       "0 1743-11-01               6.068                          1.737  Århus   \n",
       "1 1743-12-01                 NaN                            NaN  Århus   \n",
       "2 1744-01-01                 NaN                            NaN  Århus   \n",
       "\n",
       "   Country Latitude Longitude  \n",
       "0  Denmark   57.05N    10.33E  \n",
       "1  Denmark   57.05N    10.33E  \n",
       "2  Denmark   57.05N    10.33E  "
      ]
     },
     "execution_count": 15,
     "metadata": {},
     "output_type": "execute_result"
    }
   ],
   "source": [
    "df_global_temp.head(3)"
   ]
  },
  {
   "cell_type": "code",
   "execution_count": 33,
   "metadata": {
    "editable": true
   },
   "outputs": [
    {
     "data": {
      "text/plain": [
       "dt                               8599212\n",
       "AverageTemperature               8235082\n",
       "AverageTemperatureUncertainty    8235082\n",
       "City                             8599212\n",
       "Country                          8599212\n",
       "Latitude                         8599212\n",
       "Longitude                        8599212\n",
       "dtype: int64"
      ]
     },
     "execution_count": 33,
     "metadata": {},
     "output_type": "execute_result"
    }
   ],
   "source": [
    "df_global_temp.count()"
   ]
  },
  {
   "cell_type": "code",
   "execution_count": 16,
   "metadata": {
    "editable": true
   },
   "outputs": [
    {
     "data": {
      "text/plain": [
       "datasetid                         object\n",
       "fields.average_household_size    float64\n",
       "fields.city                       object\n",
       "fields.count                       int64\n",
       "fields.female_population         float64\n",
       "fields.foreign_born              float64\n",
       "fields.male_population           float64\n",
       "fields.median_age                float64\n",
       "fields.number_of_veterans        float64\n",
       "fields.race                       object\n",
       "fields.state                      object\n",
       "fields.state_code                 object\n",
       "fields.total_population            int64\n",
       "record_timestamp                  object\n",
       "recordid                          object\n",
       "dtype: object"
      ]
     },
     "execution_count": 16,
     "metadata": {},
     "output_type": "execute_result"
    }
   ],
   "source": [
    "#Reading US demographics data and printing data types\n",
    "with open('us-cities-demographics.json','r') as f:\n",
    "    data = json.load(f)\n",
    "df_us_info = pd.io.json.json_normalize(data)\n",
    "df_us_info.dtypes"
   ]
  },
  {
   "cell_type": "code",
   "execution_count": 35,
   "metadata": {
    "editable": true
   },
   "outputs": [
    {
     "data": {
      "text/html": [
       "<div>\n",
       "<style scoped>\n",
       "    .dataframe tbody tr th:only-of-type {\n",
       "        vertical-align: middle;\n",
       "    }\n",
       "\n",
       "    .dataframe tbody tr th {\n",
       "        vertical-align: top;\n",
       "    }\n",
       "\n",
       "    .dataframe thead th {\n",
       "        text-align: right;\n",
       "    }\n",
       "</style>\n",
       "<table border=\"1\" class=\"dataframe\">\n",
       "  <thead>\n",
       "    <tr style=\"text-align: right;\">\n",
       "      <th></th>\n",
       "      <th>datasetid</th>\n",
       "      <th>fields.average_household_size</th>\n",
       "      <th>fields.city</th>\n",
       "      <th>fields.count</th>\n",
       "      <th>fields.female_population</th>\n",
       "      <th>fields.foreign_born</th>\n",
       "      <th>fields.male_population</th>\n",
       "      <th>fields.median_age</th>\n",
       "      <th>fields.number_of_veterans</th>\n",
       "      <th>fields.race</th>\n",
       "      <th>fields.state</th>\n",
       "      <th>fields.state_code</th>\n",
       "      <th>fields.total_population</th>\n",
       "      <th>record_timestamp</th>\n",
       "      <th>recordid</th>\n",
       "    </tr>\n",
       "  </thead>\n",
       "  <tbody>\n",
       "    <tr>\n",
       "      <th>0</th>\n",
       "      <td>us-cities-demographics</td>\n",
       "      <td>2.73</td>\n",
       "      <td>Newark</td>\n",
       "      <td>76402</td>\n",
       "      <td>143873.0</td>\n",
       "      <td>86253.0</td>\n",
       "      <td>138040.0</td>\n",
       "      <td>34.6</td>\n",
       "      <td>5829.0</td>\n",
       "      <td>White</td>\n",
       "      <td>New Jersey</td>\n",
       "      <td>NJ</td>\n",
       "      <td>281913</td>\n",
       "      <td>1969-12-31T19:00:00-05:00</td>\n",
       "      <td>85458783ecf5da6572ee00e7120f68eff4fd0d61</td>\n",
       "    </tr>\n",
       "    <tr>\n",
       "      <th>1</th>\n",
       "      <td>us-cities-demographics</td>\n",
       "      <td>2.40</td>\n",
       "      <td>Peoria</td>\n",
       "      <td>1343</td>\n",
       "      <td>62432.0</td>\n",
       "      <td>7517.0</td>\n",
       "      <td>56229.0</td>\n",
       "      <td>33.1</td>\n",
       "      <td>6634.0</td>\n",
       "      <td>American Indian and Alaska Native</td>\n",
       "      <td>Illinois</td>\n",
       "      <td>IL</td>\n",
       "      <td>118661</td>\n",
       "      <td>1969-12-31T19:00:00-05:00</td>\n",
       "      <td>a5ad84bdb4d72688fb6ae19a8bee43bcb01f9fea</td>\n",
       "    </tr>\n",
       "    <tr>\n",
       "      <th>2</th>\n",
       "      <td>us-cities-demographics</td>\n",
       "      <td>2.77</td>\n",
       "      <td>O'Fallon</td>\n",
       "      <td>2583</td>\n",
       "      <td>43270.0</td>\n",
       "      <td>3269.0</td>\n",
       "      <td>41762.0</td>\n",
       "      <td>36.0</td>\n",
       "      <td>5783.0</td>\n",
       "      <td>Hispanic or Latino</td>\n",
       "      <td>Missouri</td>\n",
       "      <td>MO</td>\n",
       "      <td>85032</td>\n",
       "      <td>1969-12-31T19:00:00-05:00</td>\n",
       "      <td>c54cd5021a16eb5f7b83987742bd495229b2155e</td>\n",
       "    </tr>\n",
       "  </tbody>\n",
       "</table>\n",
       "</div>"
      ],
      "text/plain": [
       "                datasetid  fields.average_household_size fields.city  \\\n",
       "0  us-cities-demographics                           2.73      Newark   \n",
       "1  us-cities-demographics                           2.40      Peoria   \n",
       "2  us-cities-demographics                           2.77    O'Fallon   \n",
       "\n",
       "   fields.count  fields.female_population  fields.foreign_born  \\\n",
       "0         76402                  143873.0              86253.0   \n",
       "1          1343                   62432.0               7517.0   \n",
       "2          2583                   43270.0               3269.0   \n",
       "\n",
       "   fields.male_population  fields.median_age  fields.number_of_veterans  \\\n",
       "0                138040.0               34.6                     5829.0   \n",
       "1                 56229.0               33.1                     6634.0   \n",
       "2                 41762.0               36.0                     5783.0   \n",
       "\n",
       "                         fields.race fields.state fields.state_code  \\\n",
       "0                              White   New Jersey                NJ   \n",
       "1  American Indian and Alaska Native     Illinois                IL   \n",
       "2                 Hispanic or Latino     Missouri                MO   \n",
       "\n",
       "   fields.total_population           record_timestamp  \\\n",
       "0                   281913  1969-12-31T19:00:00-05:00   \n",
       "1                   118661  1969-12-31T19:00:00-05:00   \n",
       "2                    85032  1969-12-31T19:00:00-05:00   \n",
       "\n",
       "                                   recordid  \n",
       "0  85458783ecf5da6572ee00e7120f68eff4fd0d61  \n",
       "1  a5ad84bdb4d72688fb6ae19a8bee43bcb01f9fea  \n",
       "2  c54cd5021a16eb5f7b83987742bd495229b2155e  "
      ]
     },
     "execution_count": 35,
     "metadata": {},
     "output_type": "execute_result"
    }
   ],
   "source": [
    "#Sample Data\n",
    "df_us_info.head(3)"
   ]
  },
  {
   "cell_type": "code",
   "execution_count": 17,
   "metadata": {
    "editable": true
   },
   "outputs": [],
   "source": [
    "#Renaming the columns\n",
    "df_us_info.set_axis(['datasetid','average_household_size','city','count','female_population',\n",
    "                     'foreign_born','male_population','median_age','number_of_veterans','race',\n",
    "                     'state','state_code','total_population','record_timestamp','recordid'], \n",
    "                    axis=1, inplace=True)"
   ]
  },
  {
   "cell_type": "code",
   "execution_count": 25,
   "metadata": {
    "editable": true
   },
   "outputs": [
    {
     "data": {
      "text/html": [
       "<div>\n",
       "<style scoped>\n",
       "    .dataframe tbody tr th:only-of-type {\n",
       "        vertical-align: middle;\n",
       "    }\n",
       "\n",
       "    .dataframe tbody tr th {\n",
       "        vertical-align: top;\n",
       "    }\n",
       "\n",
       "    .dataframe thead th {\n",
       "        text-align: right;\n",
       "    }\n",
       "</style>\n",
       "<table border=\"1\" class=\"dataframe\">\n",
       "  <thead>\n",
       "    <tr style=\"text-align: right;\">\n",
       "      <th></th>\n",
       "      <th>datasetid</th>\n",
       "      <th>average_household_size</th>\n",
       "      <th>city</th>\n",
       "      <th>count</th>\n",
       "      <th>female_population</th>\n",
       "      <th>foreign_born</th>\n",
       "      <th>male_population</th>\n",
       "      <th>median_age</th>\n",
       "      <th>number_of_veterans</th>\n",
       "      <th>race</th>\n",
       "      <th>state</th>\n",
       "      <th>state_code</th>\n",
       "      <th>total_population</th>\n",
       "      <th>record_timestamp</th>\n",
       "      <th>recordid</th>\n",
       "    </tr>\n",
       "  </thead>\n",
       "  <tbody>\n",
       "    <tr>\n",
       "      <th>97</th>\n",
       "      <td>us-cities-demographics</td>\n",
       "      <td>2.86</td>\n",
       "      <td>Los Angeles</td>\n",
       "      <td>2177650</td>\n",
       "      <td>2012898.0</td>\n",
       "      <td>1485425.0</td>\n",
       "      <td>1958998.0</td>\n",
       "      <td>35.0</td>\n",
       "      <td>85417.0</td>\n",
       "      <td>White</td>\n",
       "      <td>California</td>\n",
       "      <td>CA</td>\n",
       "      <td>3971896</td>\n",
       "      <td>1970-01-01</td>\n",
       "      <td>7da42fda61238faccac3d43954a8f621a3a51194</td>\n",
       "    </tr>\n",
       "    <tr>\n",
       "      <th>554</th>\n",
       "      <td>us-cities-demographics</td>\n",
       "      <td>2.86</td>\n",
       "      <td>Los Angeles</td>\n",
       "      <td>512999</td>\n",
       "      <td>2012898.0</td>\n",
       "      <td>1485425.0</td>\n",
       "      <td>1958998.0</td>\n",
       "      <td>35.0</td>\n",
       "      <td>85417.0</td>\n",
       "      <td>Asian</td>\n",
       "      <td>California</td>\n",
       "      <td>CA</td>\n",
       "      <td>3971896</td>\n",
       "      <td>1970-01-01</td>\n",
       "      <td>e23be85ef2bf6caecf2309ba6dedc868929d1377</td>\n",
       "    </tr>\n",
       "    <tr>\n",
       "      <th>729</th>\n",
       "      <td>us-cities-demographics</td>\n",
       "      <td>2.86</td>\n",
       "      <td>Los Angeles</td>\n",
       "      <td>404868</td>\n",
       "      <td>2012898.0</td>\n",
       "      <td>1485425.0</td>\n",
       "      <td>1958998.0</td>\n",
       "      <td>35.0</td>\n",
       "      <td>85417.0</td>\n",
       "      <td>Black or African-American</td>\n",
       "      <td>California</td>\n",
       "      <td>CA</td>\n",
       "      <td>3971896</td>\n",
       "      <td>1970-01-01</td>\n",
       "      <td>cda8c0b63e4c14d174940e1df5d50d2d2491ccfa</td>\n",
       "    </tr>\n",
       "    <tr>\n",
       "      <th>1225</th>\n",
       "      <td>us-cities-demographics</td>\n",
       "      <td>2.86</td>\n",
       "      <td>Los Angeles</td>\n",
       "      <td>63758</td>\n",
       "      <td>2012898.0</td>\n",
       "      <td>1485425.0</td>\n",
       "      <td>1958998.0</td>\n",
       "      <td>35.0</td>\n",
       "      <td>85417.0</td>\n",
       "      <td>American Indian and Alaska Native</td>\n",
       "      <td>California</td>\n",
       "      <td>CA</td>\n",
       "      <td>3971896</td>\n",
       "      <td>1970-01-01</td>\n",
       "      <td>f45da4b5c979eb53a8e10a5d4e6ef2a7bb480fbc</td>\n",
       "    </tr>\n",
       "    <tr>\n",
       "      <th>1899</th>\n",
       "      <td>us-cities-demographics</td>\n",
       "      <td>2.86</td>\n",
       "      <td>Los Angeles</td>\n",
       "      <td>1936732</td>\n",
       "      <td>2012898.0</td>\n",
       "      <td>1485425.0</td>\n",
       "      <td>1958998.0</td>\n",
       "      <td>35.0</td>\n",
       "      <td>85417.0</td>\n",
       "      <td>Hispanic or Latino</td>\n",
       "      <td>California</td>\n",
       "      <td>CA</td>\n",
       "      <td>3971896</td>\n",
       "      <td>1970-01-01</td>\n",
       "      <td>5212831e25cadd6f383d1bf93274aa17e346adb6</td>\n",
       "    </tr>\n",
       "  </tbody>\n",
       "</table>\n",
       "</div>"
      ],
      "text/plain": [
       "                   datasetid  average_household_size         city    count  \\\n",
       "97    us-cities-demographics                    2.86  Los Angeles  2177650   \n",
       "554   us-cities-demographics                    2.86  Los Angeles   512999   \n",
       "729   us-cities-demographics                    2.86  Los Angeles   404868   \n",
       "1225  us-cities-demographics                    2.86  Los Angeles    63758   \n",
       "1899  us-cities-demographics                    2.86  Los Angeles  1936732   \n",
       "\n",
       "      female_population  foreign_born  male_population  median_age  \\\n",
       "97            2012898.0     1485425.0        1958998.0        35.0   \n",
       "554           2012898.0     1485425.0        1958998.0        35.0   \n",
       "729           2012898.0     1485425.0        1958998.0        35.0   \n",
       "1225          2012898.0     1485425.0        1958998.0        35.0   \n",
       "1899          2012898.0     1485425.0        1958998.0        35.0   \n",
       "\n",
       "      number_of_veterans                               race       state  \\\n",
       "97               85417.0                              White  California   \n",
       "554              85417.0                              Asian  California   \n",
       "729              85417.0          Black or African-American  California   \n",
       "1225             85417.0  American Indian and Alaska Native  California   \n",
       "1899             85417.0                 Hispanic or Latino  California   \n",
       "\n",
       "     state_code  total_population record_timestamp  \\\n",
       "97           CA           3971896       1970-01-01   \n",
       "554          CA           3971896       1970-01-01   \n",
       "729          CA           3971896       1970-01-01   \n",
       "1225         CA           3971896       1970-01-01   \n",
       "1899         CA           3971896       1970-01-01   \n",
       "\n",
       "                                      recordid  \n",
       "97    7da42fda61238faccac3d43954a8f621a3a51194  \n",
       "554   e23be85ef2bf6caecf2309ba6dedc868929d1377  \n",
       "729   cda8c0b63e4c14d174940e1df5d50d2d2491ccfa  \n",
       "1225  f45da4b5c979eb53a8e10a5d4e6ef2a7bb480fbc  \n",
       "1899  5212831e25cadd6f383d1bf93274aa17e346adb6  "
      ]
     },
     "execution_count": 25,
     "metadata": {},
     "output_type": "execute_result"
    }
   ],
   "source": [
    "#Converting to datetime format and querying sample data\n",
    "df_us_info['record_timestamp'] =  pd.to_datetime(df_us_info['record_timestamp'])\n",
    "df_us_info.query('state_code==\"CA\" and city == \"Los Angeles\"')"
   ]
  },
  {
   "cell_type": "code",
   "execution_count": 28,
   "metadata": {
    "editable": true
   },
   "outputs": [
    {
     "data": {
      "text/plain": [
       "array([1970])"
      ]
     },
     "execution_count": 28,
     "metadata": {},
     "output_type": "execute_result"
    }
   ],
   "source": [
    "df_us_info.record_timestamp.dt.year.unique()"
   ]
  },
  {
   "cell_type": "code",
   "execution_count": 19,
   "metadata": {
    "editable": true
   },
   "outputs": [
    {
     "data": {
      "text/plain": [
       "datasetid                 2891\n",
       "average_household_size    2875\n",
       "city                      2891\n",
       "count                     2891\n",
       "female_population         2888\n",
       "foreign_born              2878\n",
       "male_population           2888\n",
       "median_age                2891\n",
       "number_of_veterans        2878\n",
       "race                      2891\n",
       "state                     2891\n",
       "state_code                2891\n",
       "total_population          2891\n",
       "record_timestamp          2891\n",
       "recordid                  2891\n",
       "dtype: int64"
      ]
     },
     "execution_count": 19,
     "metadata": {},
     "output_type": "execute_result"
    }
   ],
   "source": [
    "#Verifying Null values\n",
    "df_us_info.count()"
   ]
  },
  {
   "cell_type": "code",
   "execution_count": 29,
   "metadata": {
    "editable": true
   },
   "outputs": [],
   "source": [
    "#Reading Airport Codes Data\n",
    "df_airport_cd = pd.read_csv('airport-codes_csv.csv',header=0)"
   ]
  },
  {
   "cell_type": "code",
   "execution_count": 40,
   "metadata": {
    "editable": true
   },
   "outputs": [
    {
     "data": {
      "text/html": [
       "<div>\n",
       "<style scoped>\n",
       "    .dataframe tbody tr th:only-of-type {\n",
       "        vertical-align: middle;\n",
       "    }\n",
       "\n",
       "    .dataframe tbody tr th {\n",
       "        vertical-align: top;\n",
       "    }\n",
       "\n",
       "    .dataframe thead th {\n",
       "        text-align: right;\n",
       "    }\n",
       "</style>\n",
       "<table border=\"1\" class=\"dataframe\">\n",
       "  <thead>\n",
       "    <tr style=\"text-align: right;\">\n",
       "      <th></th>\n",
       "      <th>ident</th>\n",
       "      <th>type</th>\n",
       "      <th>name</th>\n",
       "      <th>elevation_ft</th>\n",
       "      <th>continent</th>\n",
       "      <th>iso_country</th>\n",
       "      <th>iso_region</th>\n",
       "      <th>municipality</th>\n",
       "      <th>gps_code</th>\n",
       "      <th>iata_code</th>\n",
       "      <th>local_code</th>\n",
       "      <th>coordinates</th>\n",
       "    </tr>\n",
       "  </thead>\n",
       "  <tbody>\n",
       "    <tr>\n",
       "      <th>174</th>\n",
       "      <td>02PR</td>\n",
       "      <td>small_airport</td>\n",
       "      <td>Cuylers Airport</td>\n",
       "      <td>15.0</td>\n",
       "      <td>NaN</td>\n",
       "      <td>PR</td>\n",
       "      <td>PR-U-A</td>\n",
       "      <td>Vega Baja</td>\n",
       "      <td>02PR</td>\n",
       "      <td>NaN</td>\n",
       "      <td>02PR</td>\n",
       "      <td>-66.36689758300781, 18.45330047607422</td>\n",
       "    </tr>\n",
       "    <tr>\n",
       "      <th>223</th>\n",
       "      <td>03N</td>\n",
       "      <td>small_airport</td>\n",
       "      <td>Utirik Airport</td>\n",
       "      <td>4.0</td>\n",
       "      <td>OC</td>\n",
       "      <td>MH</td>\n",
       "      <td>MH-UTI</td>\n",
       "      <td>Utirik Island</td>\n",
       "      <td>K03N</td>\n",
       "      <td>UTK</td>\n",
       "      <td>03N</td>\n",
       "      <td>169.852005, 11.222</td>\n",
       "    </tr>\n",
       "  </tbody>\n",
       "</table>\n",
       "</div>"
      ],
      "text/plain": [
       "    ident           type             name  elevation_ft continent iso_country  \\\n",
       "174  02PR  small_airport  Cuylers Airport          15.0       NaN          PR   \n",
       "223   03N  small_airport   Utirik Airport           4.0        OC          MH   \n",
       "\n",
       "    iso_region   municipality gps_code iata_code local_code  \\\n",
       "174     PR-U-A      Vega Baja     02PR       NaN       02PR   \n",
       "223     MH-UTI  Utirik Island     K03N       UTK        03N   \n",
       "\n",
       "                               coordinates  \n",
       "174  -66.36689758300781, 18.45330047607422  \n",
       "223                     169.852005, 11.222  "
      ]
     },
     "execution_count": 40,
     "metadata": {},
     "output_type": "execute_result"
    }
   ],
   "source": [
    "#Checking iso_region format\n",
    "df_airport_cd[df_airport_cd.iso_region.str.len()>5].head(2)"
   ]
  },
  {
   "cell_type": "code",
   "execution_count": 30,
   "metadata": {
    "editable": true
   },
   "outputs": [],
   "source": [
    "#extracting city from region field\n",
    "df_airport_cd['city'] = df_airport_cd['iso_region'].apply(lambda x: x[x.find('-')+1:])"
   ]
  },
  {
   "cell_type": "code",
   "execution_count": 22,
   "metadata": {
    "editable": true
   },
   "outputs": [
    {
     "data": {
      "text/html": [
       "<div>\n",
       "<style scoped>\n",
       "    .dataframe tbody tr th:only-of-type {\n",
       "        vertical-align: middle;\n",
       "    }\n",
       "\n",
       "    .dataframe tbody tr th {\n",
       "        vertical-align: top;\n",
       "    }\n",
       "\n",
       "    .dataframe thead th {\n",
       "        text-align: right;\n",
       "    }\n",
       "</style>\n",
       "<table border=\"1\" class=\"dataframe\">\n",
       "  <thead>\n",
       "    <tr style=\"text-align: right;\">\n",
       "      <th></th>\n",
       "      <th>ident</th>\n",
       "      <th>type</th>\n",
       "      <th>name</th>\n",
       "      <th>elevation_ft</th>\n",
       "      <th>continent</th>\n",
       "      <th>iso_country</th>\n",
       "      <th>iso_region</th>\n",
       "      <th>municipality</th>\n",
       "      <th>gps_code</th>\n",
       "      <th>iata_code</th>\n",
       "      <th>local_code</th>\n",
       "      <th>coordinates</th>\n",
       "      <th>city</th>\n",
       "    </tr>\n",
       "  </thead>\n",
       "  <tbody>\n",
       "    <tr>\n",
       "      <th>174</th>\n",
       "      <td>02PR</td>\n",
       "      <td>small_airport</td>\n",
       "      <td>Cuylers Airport</td>\n",
       "      <td>15.0</td>\n",
       "      <td>NaN</td>\n",
       "      <td>PR</td>\n",
       "      <td>PR-U-A</td>\n",
       "      <td>Vega Baja</td>\n",
       "      <td>02PR</td>\n",
       "      <td>NaN</td>\n",
       "      <td>02PR</td>\n",
       "      <td>-66.36689758300781, 18.45330047607422</td>\n",
       "      <td>U-A</td>\n",
       "    </tr>\n",
       "    <tr>\n",
       "      <th>223</th>\n",
       "      <td>03N</td>\n",
       "      <td>small_airport</td>\n",
       "      <td>Utirik Airport</td>\n",
       "      <td>4.0</td>\n",
       "      <td>OC</td>\n",
       "      <td>MH</td>\n",
       "      <td>MH-UTI</td>\n",
       "      <td>Utirik Island</td>\n",
       "      <td>K03N</td>\n",
       "      <td>UTK</td>\n",
       "      <td>03N</td>\n",
       "      <td>169.852005, 11.222</td>\n",
       "      <td>UTI</td>\n",
       "    </tr>\n",
       "  </tbody>\n",
       "</table>\n",
       "</div>"
      ],
      "text/plain": [
       "    ident           type             name  elevation_ft continent iso_country  \\\n",
       "174  02PR  small_airport  Cuylers Airport          15.0       NaN          PR   \n",
       "223   03N  small_airport   Utirik Airport           4.0        OC          MH   \n",
       "\n",
       "    iso_region   municipality gps_code iata_code local_code  \\\n",
       "174     PR-U-A      Vega Baja     02PR       NaN       02PR   \n",
       "223     MH-UTI  Utirik Island     K03N       UTK        03N   \n",
       "\n",
       "                               coordinates city  \n",
       "174  -66.36689758300781, 18.45330047607422  U-A  \n",
       "223                     169.852005, 11.222  UTI  "
      ]
     },
     "execution_count": 22,
     "metadata": {},
     "output_type": "execute_result"
    }
   ],
   "source": [
    "#Checking iso_region format after cleaning\n",
    "df_airport_cd[df_airport_cd.iso_region.str.len()>5].head(2)"
   ]
  },
  {
   "cell_type": "code",
   "execution_count": 33,
   "metadata": {
    "editable": true
   },
   "outputs": [
    {
     "data": {
      "text/plain": [
       "array(['heliport', 'closed', 'large_airport', 'small_airport'], dtype=object)"
      ]
     },
     "execution_count": 33,
     "metadata": {},
     "output_type": "execute_result"
    }
   ],
   "source": [
    "df_airport_cd.query('iso_country == \"US\" and municipality==\"Los Angeles\"').type.unique()"
   ]
  },
  {
   "cell_type": "code",
   "execution_count": 34,
   "metadata": {
    "editable": true
   },
   "outputs": [
    {
     "data": {
      "text/html": [
       "<div>\n",
       "<style scoped>\n",
       "    .dataframe tbody tr th:only-of-type {\n",
       "        vertical-align: middle;\n",
       "    }\n",
       "\n",
       "    .dataframe tbody tr th {\n",
       "        vertical-align: top;\n",
       "    }\n",
       "\n",
       "    .dataframe thead th {\n",
       "        text-align: right;\n",
       "    }\n",
       "</style>\n",
       "<table border=\"1\" class=\"dataframe\">\n",
       "  <thead>\n",
       "    <tr style=\"text-align: right;\">\n",
       "      <th></th>\n",
       "      <th>ident</th>\n",
       "      <th>type</th>\n",
       "      <th>name</th>\n",
       "      <th>elevation_ft</th>\n",
       "      <th>continent</th>\n",
       "      <th>iso_country</th>\n",
       "      <th>iso_region</th>\n",
       "      <th>municipality</th>\n",
       "      <th>gps_code</th>\n",
       "      <th>iata_code</th>\n",
       "      <th>local_code</th>\n",
       "      <th>coordinates</th>\n",
       "      <th>city</th>\n",
       "    </tr>\n",
       "  </thead>\n",
       "  <tbody>\n",
       "    <tr>\n",
       "      <th>27795</th>\n",
       "      <td>KLAX</td>\n",
       "      <td>large_airport</td>\n",
       "      <td>Los Angeles International Airport</td>\n",
       "      <td>125.0</td>\n",
       "      <td>NaN</td>\n",
       "      <td>US</td>\n",
       "      <td>US-CA</td>\n",
       "      <td>Los Angeles</td>\n",
       "      <td>KLAX</td>\n",
       "      <td>LAX</td>\n",
       "      <td>LAX</td>\n",
       "      <td>-118.4079971, 33.94250107</td>\n",
       "      <td>CA</td>\n",
       "    </tr>\n",
       "  </tbody>\n",
       "</table>\n",
       "</div>"
      ],
      "text/plain": [
       "      ident           type                               name  elevation_ft  \\\n",
       "27795  KLAX  large_airport  Los Angeles International Airport         125.0   \n",
       "\n",
       "      continent iso_country iso_region municipality gps_code iata_code  \\\n",
       "27795       NaN          US      US-CA  Los Angeles     KLAX       LAX   \n",
       "\n",
       "      local_code                coordinates city  \n",
       "27795        LAX  -118.4079971, 33.94250107   CA  "
      ]
     },
     "execution_count": 34,
     "metadata": {},
     "output_type": "execute_result"
    }
   ],
   "source": [
    "df_airport_cd.query('iso_country == \"US\" and municipality==\"Los Angeles\" and type==\"large_airport\"')"
   ]
  },
  {
   "cell_type": "code",
   "execution_count": 44,
   "metadata": {
    "editable": true
   },
   "outputs": [
    {
     "data": {
      "text/plain": [
       "ident           55075\n",
       "type            55075\n",
       "name            55075\n",
       "elevation_ft    48069\n",
       "continent       27356\n",
       "iso_country     54828\n",
       "iso_region      55075\n",
       "municipality    49399\n",
       "gps_code        41030\n",
       "iata_code        9189\n",
       "local_code      28686\n",
       "coordinates     55075\n",
       "city            55075\n",
       "dtype: int64"
      ]
     },
     "execution_count": 44,
     "metadata": {},
     "output_type": "execute_result"
    }
   ],
   "source": [
    "df_airport_cd.count()"
   ]
  },
  {
   "cell_type": "code",
   "execution_count": 45,
   "metadata": {
    "editable": true
   },
   "outputs": [],
   "source": [
    "#Creating dates for DATE_DIM\n",
    "import numpy as np\n",
    "df_date_dim = pd.DataFrame(pd.period_range('1/1/2015', freq='D', periods=2000),columns=['date_id'], dtype='datetime64[ns]')"
   ]
  },
  {
   "cell_type": "code",
   "execution_count": 46,
   "metadata": {
    "editable": true
   },
   "outputs": [
    {
     "data": {
      "text/html": [
       "<div>\n",
       "<style scoped>\n",
       "    .dataframe tbody tr th:only-of-type {\n",
       "        vertical-align: middle;\n",
       "    }\n",
       "\n",
       "    .dataframe tbody tr th {\n",
       "        vertical-align: top;\n",
       "    }\n",
       "\n",
       "    .dataframe thead th {\n",
       "        text-align: right;\n",
       "    }\n",
       "</style>\n",
       "<table border=\"1\" class=\"dataframe\">\n",
       "  <thead>\n",
       "    <tr style=\"text-align: right;\">\n",
       "      <th></th>\n",
       "      <th>date_id</th>\n",
       "    </tr>\n",
       "  </thead>\n",
       "  <tbody>\n",
       "    <tr>\n",
       "      <th>0</th>\n",
       "      <td>2015-01-01</td>\n",
       "    </tr>\n",
       "    <tr>\n",
       "      <th>1</th>\n",
       "      <td>2015-01-02</td>\n",
       "    </tr>\n",
       "    <tr>\n",
       "      <th>2</th>\n",
       "      <td>2015-01-03</td>\n",
       "    </tr>\n",
       "    <tr>\n",
       "      <th>3</th>\n",
       "      <td>2015-01-04</td>\n",
       "    </tr>\n",
       "    <tr>\n",
       "      <th>4</th>\n",
       "      <td>2015-01-05</td>\n",
       "    </tr>\n",
       "  </tbody>\n",
       "</table>\n",
       "</div>"
      ],
      "text/plain": [
       "     date_id\n",
       "0 2015-01-01\n",
       "1 2015-01-02\n",
       "2 2015-01-03\n",
       "3 2015-01-04\n",
       "4 2015-01-05"
      ]
     },
     "execution_count": 46,
     "metadata": {},
     "output_type": "execute_result"
    }
   ],
   "source": [
    "#verifying the dates\n",
    "df_date_dim.head(5)"
   ]
  },
  {
   "cell_type": "code",
   "execution_count": 47,
   "metadata": {
    "editable": true
   },
   "outputs": [],
   "source": [
    "#Adding other fields\n",
    "df_date_dim['year'],df_date_dim['month'],df_date_dim['day'],df_date_dim['dayofweek'],df_date_dim['weekofyear'] =\\\n",
    "df_date_dim.date_id.dt.year,df_date_dim.date_id.dt.month,df_date_dim.date_id.dt.day,df_date_dim.date_id.dt.dayofweek,df_date_dim.date_id.dt.weekofyear"
   ]
  },
  {
   "cell_type": "code",
   "execution_count": 48,
   "metadata": {
    "editable": true
   },
   "outputs": [
    {
     "data": {
      "text/html": [
       "<div>\n",
       "<style scoped>\n",
       "    .dataframe tbody tr th:only-of-type {\n",
       "        vertical-align: middle;\n",
       "    }\n",
       "\n",
       "    .dataframe tbody tr th {\n",
       "        vertical-align: top;\n",
       "    }\n",
       "\n",
       "    .dataframe thead th {\n",
       "        text-align: right;\n",
       "    }\n",
       "</style>\n",
       "<table border=\"1\" class=\"dataframe\">\n",
       "  <thead>\n",
       "    <tr style=\"text-align: right;\">\n",
       "      <th></th>\n",
       "      <th>date_id</th>\n",
       "      <th>year</th>\n",
       "      <th>month</th>\n",
       "      <th>day</th>\n",
       "      <th>dayofweek</th>\n",
       "      <th>weekofyear</th>\n",
       "    </tr>\n",
       "  </thead>\n",
       "  <tbody>\n",
       "    <tr>\n",
       "      <th>1926</th>\n",
       "      <td>2020-04-10</td>\n",
       "      <td>2020</td>\n",
       "      <td>4</td>\n",
       "      <td>10</td>\n",
       "      <td>4</td>\n",
       "      <td>15</td>\n",
       "    </tr>\n",
       "    <tr>\n",
       "      <th>1494</th>\n",
       "      <td>2019-02-03</td>\n",
       "      <td>2019</td>\n",
       "      <td>2</td>\n",
       "      <td>3</td>\n",
       "      <td>6</td>\n",
       "      <td>5</td>\n",
       "    </tr>\n",
       "    <tr>\n",
       "      <th>550</th>\n",
       "      <td>2016-07-04</td>\n",
       "      <td>2016</td>\n",
       "      <td>7</td>\n",
       "      <td>4</td>\n",
       "      <td>0</td>\n",
       "      <td>27</td>\n",
       "    </tr>\n",
       "    <tr>\n",
       "      <th>1282</th>\n",
       "      <td>2018-07-06</td>\n",
       "      <td>2018</td>\n",
       "      <td>7</td>\n",
       "      <td>6</td>\n",
       "      <td>4</td>\n",
       "      <td>27</td>\n",
       "    </tr>\n",
       "    <tr>\n",
       "      <th>1418</th>\n",
       "      <td>2018-11-19</td>\n",
       "      <td>2018</td>\n",
       "      <td>11</td>\n",
       "      <td>19</td>\n",
       "      <td>0</td>\n",
       "      <td>47</td>\n",
       "    </tr>\n",
       "  </tbody>\n",
       "</table>\n",
       "</div>"
      ],
      "text/plain": [
       "        date_id  year  month  day  dayofweek  weekofyear\n",
       "1926 2020-04-10  2020      4   10          4          15\n",
       "1494 2019-02-03  2019      2    3          6           5\n",
       "550  2016-07-04  2016      7    4          0          27\n",
       "1282 2018-07-06  2018      7    6          4          27\n",
       "1418 2018-11-19  2018     11   19          0          47"
      ]
     },
     "execution_count": 48,
     "metadata": {},
     "output_type": "execute_result"
    }
   ],
   "source": [
    "#sampling the data\n",
    "df_date_dim.sample(5)"
   ]
  },
  {
   "cell_type": "code",
   "execution_count": 49,
   "metadata": {
    "editable": true
   },
   "outputs": [
    {
     "data": {
      "text/plain": [
       "date_id       datetime64[ns]\n",
       "year                   int64\n",
       "month                  int64\n",
       "day                    int64\n",
       "dayofweek              int64\n",
       "weekofyear             int64\n",
       "dtype: object"
      ]
     },
     "execution_count": 49,
     "metadata": {},
     "output_type": "execute_result"
    }
   ],
   "source": [
    "#verifying the data types\n",
    "df_date_dim.dtypes"
   ]
  },
  {
   "cell_type": "code",
   "execution_count": 50,
   "metadata": {
    "editable": true
   },
   "outputs": [],
   "source": [
    "#Creating Spark session with sas data\n",
    "spark = SparkSession.builder.\\\n",
    "config(\"spark.jars.packages\",\"saurfang:spark-sas7bdat:2.0.0-s_2.11\")\\\n",
    ".enableHiveSupport().getOrCreate()"
   ]
  },
  {
   "cell_type": "code",
   "execution_count": 51,
   "metadata": {
    "editable": true
   },
   "outputs": [
    {
     "name": "stdout",
     "output_type": "stream",
     "text": [
      "CPU times: user 1.56 ms, sys: 227 µs, total: 1.79 ms\n",
      "Wall time: 2.79 s\n"
     ]
    }
   ],
   "source": [
    "%%time\n",
    "#Reading sample SAS immigration data set into DataFrame\n",
    "df_immigration_spark = spark.read.format('com.github.saurfang.sas.spark').load('../../data/18-83510-I94-Data-2016/i94_apr16_sub.sas7bdat')"
   ]
  },
  {
   "cell_type": "code",
   "execution_count": 52,
   "metadata": {
    "editable": true
   },
   "outputs": [
    {
     "name": "stdout",
     "output_type": "stream",
     "text": [
      "CPU times: user 6.8 ms, sys: 989 µs, total: 7.78 ms\n",
      "Wall time: 43.1 s\n"
     ]
    },
    {
     "data": {
      "text/plain": [
       "3096313"
      ]
     },
     "execution_count": 52,
     "metadata": {},
     "output_type": "execute_result"
    }
   ],
   "source": [
    "%%time\n",
    "#Total records\n",
    "df_immigration_spark.count()"
   ]
  },
  {
   "cell_type": "code",
   "execution_count": 53,
   "metadata": {
    "editable": true
   },
   "outputs": [
    {
     "name": "stdout",
     "output_type": "stream",
     "text": [
      "CPU times: user 5.16 ms, sys: 8.09 ms, total: 13.3 ms\n",
      "Wall time: 1min 14s\n"
     ]
    },
    {
     "data": {
      "text/plain": [
       "3096313"
      ]
     },
     "execution_count": 53,
     "metadata": {},
     "output_type": "execute_result"
    }
   ],
   "source": [
    "%%time\n",
    "#Checking for the duplicate records and matching with total records\n",
    "df_immigration_spark.distinct().count()"
   ]
  },
  {
   "cell_type": "code",
   "execution_count": 54,
   "metadata": {
    "editable": true
   },
   "outputs": [
    {
     "name": "stdout",
     "output_type": "stream",
     "text": [
      "Admnum can be  a PK\n",
      "CPU times: user 5.45 ms, sys: 4.76 ms, total: 10.2 ms\n",
      "Wall time: 43.2 s\n"
     ]
    }
   ],
   "source": [
    "%%time\n",
    "#finding the PK column\n",
    "df_immigration_spark.select('admnum').distinct().count()\n",
    "print('Admnum can be  a PK')"
   ]
  },
  {
   "cell_type": "code",
   "execution_count": 55,
   "metadata": {
    "editable": true
   },
   "outputs": [
    {
     "name": "stdout",
     "output_type": "stream",
     "text": [
      "+-----+------+------+------+------+-------+-------+-------+-------+-------+------+-------+-----+--------+--------+-----+-------+-------+-------+-------+-------+--------+------+------+-------+--------------+-----+--------+\n",
      "|cicid| i94yr|i94mon|i94cit|i94res|i94port|arrdate|i94mode|i94addr|depdate|i94bir|i94visa|count|dtadfile|visapost|occup|entdepa|entdepd|entdepu|matflag|biryear| dtaddto|gender|insnum|airline|        admnum|fltno|visatype|\n",
      "+-----+------+------+------+------+-------+-------+-------+-------+-------+------+-------+-----+--------+--------+-----+-------+-------+-------+-------+-------+--------+------+------+-------+--------------+-----+--------+\n",
      "|  6.0|2016.0|   4.0| 692.0| 692.0|    XXX|20573.0|   null|   null|   null|  37.0|    2.0|  1.0|    null|    null| null|      T|   null|      U|   null| 1979.0|10282016|  null|  null|   null| 1.897628485E9| null|      B2|\n",
      "|  7.0|2016.0|   4.0| 254.0| 276.0|    ATL|20551.0|    1.0|     AL|   null|  25.0|    3.0|  1.0|20130811|     SEO| null|      G|   null|      Y|   null| 1991.0|     D/S|     M|  null|   null|  3.73679633E9|00296|      F1|\n",
      "| 15.0|2016.0|   4.0| 101.0| 101.0|    WAS|20545.0|    1.0|     MI|20691.0|  55.0|    2.0|  1.0|20160401|    null| null|      T|      O|   null|      M| 1961.0|09302016|     M|  null|     OS|  6.66643185E8|   93|      B2|\n",
      "| 16.0|2016.0|   4.0| 101.0| 101.0|    NYC|20545.0|    1.0|     MA|20567.0|  28.0|    2.0|  1.0|20160401|    null| null|      O|      O|   null|      M| 1988.0|09302016|  null|  null|     AA|9.246846133E10|00199|      B2|\n",
      "| 17.0|2016.0|   4.0| 101.0| 101.0|    NYC|20545.0|    1.0|     MA|20567.0|   4.0|    2.0|  1.0|20160401|    null| null|      O|      O|   null|      M| 2012.0|09302016|  null|  null|     AA|9.246846313E10|00199|      B2|\n",
      "+-----+------+------+------+------+-------+-------+-------+-------+-------+------+-------+-----+--------+--------+-----+-------+-------+-------+-------+-------+--------+------+------+-------+--------------+-----+--------+\n",
      "only showing top 5 rows\n",
      "\n"
     ]
    }
   ],
   "source": [
    "#sample data\n",
    "df_immigration_spark.show(5)"
   ]
  },
  {
   "cell_type": "code",
   "execution_count": 56,
   "metadata": {
    "editable": true
   },
   "outputs": [
    {
     "name": "stdout",
     "output_type": "stream",
     "text": [
      "Created 3 user defined functions to convert dates.\n",
      "Created 1 user defined function to remove * and spaces around the airline column.\n"
     ]
    }
   ],
   "source": [
    "#user defined functions to convert the dates and remove * from data\n",
    "def convert_datetime(x):\n",
    "    try:\n",
    "        start = datetime(1960, 1, 1)\n",
    "        return start + timedelta(days=int(x))\n",
    "    except:\n",
    "        return datetime(1900,1,1) \n",
    "udf_datetime_from_sas = udf(lambda x: convert_datetime(x), T.DateType())\n",
    "\n",
    "def convert_YYYYMMDD_datetime(x):\n",
    "    try:\n",
    "        x = str(x)\n",
    "        return datetime(int(x[0:4]),int(x[4:6]),int(x[6:8]))\n",
    "\n",
    "    except:\n",
    "        return datetime(1900,1,1) \n",
    "udf_datetime_from_YYYYMMDD = udf(lambda x: convert_YYYYMMDD_datetime(x), T.DateType())\n",
    "\n",
    "def convert_MMDDYYYY_datetime(x):\n",
    "    try:\n",
    "        x = str(x)\n",
    "        return datetime(int(x[4:8]),int(x[0:2]),int(x[2:4]))\n",
    "    except:\n",
    "        return datetime(1900,1,1) \n",
    "udf_datetime_from_MMDDYYYY = udf(lambda x: convert_MMDDYYYY_datetime(x), T.DateType())\n",
    "\n",
    "def remove_Special_Char(x):\n",
    "    try:\n",
    "        return x.lstrip().rstrip().lstrip('*').rstrip('*')\n",
    "    except:\n",
    "        return '-'\n",
    "    \n",
    "udf_remove_Special_Char = udf(lambda x: remove_Special_Char(x),T.StringType())\n",
    "print('Created 3 user defined functions to convert dates.')\n",
    "print('Created 1 user defined function to remove * and spaces around the airline column.')"
   ]
  },
  {
   "cell_type": "code",
   "execution_count": 57,
   "metadata": {
    "editable": true
   },
   "outputs": [],
   "source": [
    "#Calling udf to convert arrival date\n",
    "df_immigration_spark = df_immigration_spark.withColumn(\"Arrival_Date\",udf_datetime_from_sas(df_immigration_spark.arrdate))"
   ]
  },
  {
   "cell_type": "code",
   "execution_count": 58,
   "metadata": {
    "editable": true
   },
   "outputs": [
    {
     "name": "stdout",
     "output_type": "stream",
     "text": [
      "+-----+-----+------+------+------+-------+-------+-------+-------+-------+------+-------+-----+--------+--------+-----+-------+-------+-------+-------+-------+-------+------+------+-------+------+-----+--------+------------+\n",
      "|cicid|i94yr|i94mon|i94cit|i94res|i94port|arrdate|i94mode|i94addr|depdate|i94bir|i94visa|count|dtadfile|visapost|occup|entdepa|entdepd|entdepu|matflag|biryear|dtaddto|gender|insnum|airline|admnum|fltno|visatype|Arrival_Date|\n",
      "+-----+-----+------+------+------+-------+-------+-------+-------+-------+------+-------+-----+--------+--------+-----+-------+-------+-------+-------+-------+-------+------+------+-------+------+-----+--------+------------+\n",
      "+-----+-----+------+------+------+-------+-------+-------+-------+-------+------+-------+-----+--------+--------+-----+-------+-------+-------+-------+-------+-------+------+------+-------+------+-----+--------+------------+\n",
      "\n"
     ]
    }
   ],
   "source": [
    "df_immigration_spark.where(df_immigration_spark.Arrival_Date.isNull()).show(5)"
   ]
  },
  {
   "cell_type": "code",
   "execution_count": 59,
   "metadata": {
    "editable": true
   },
   "outputs": [],
   "source": [
    "df_immigration_spark = df_immigration_spark.withColumn(\"I94_added_date\",udf_datetime_from_YYYYMMDD(df_immigration_spark.dtadfile))\\\n",
    ".withColumn(\"VISA_Expiry_date\",udf_datetime_from_MMDDYYYY(df_immigration_spark.dtaddto))"
   ]
  },
  {
   "cell_type": "code",
   "execution_count": 60,
   "metadata": {
    "editable": true
   },
   "outputs": [
    {
     "name": "stdout",
     "output_type": "stream",
     "text": [
      "+-----+------+------+------+------+-------+-------+-------+-------+-------+------+-------+-----+--------+--------+-----+-------+-------+-------+-------+-------+--------+------+------+-------+--------------+-----+--------+------------+--------------+----------------+\n",
      "|cicid| i94yr|i94mon|i94cit|i94res|i94port|arrdate|i94mode|i94addr|depdate|i94bir|i94visa|count|dtadfile|visapost|occup|entdepa|entdepd|entdepu|matflag|biryear| dtaddto|gender|insnum|airline|        admnum|fltno|visatype|Arrival_Date|I94_added_date|VISA_Expiry_date|\n",
      "+-----+------+------+------+------+-------+-------+-------+-------+-------+------+-------+-----+--------+--------+-----+-------+-------+-------+-------+-------+--------+------+------+-------+--------------+-----+--------+------------+--------------+----------------+\n",
      "|  6.0|2016.0|   4.0| 692.0| 692.0|    XXX|20573.0|   null|   null|   null|  37.0|    2.0|  1.0|    null|    null| null|      T|   null|      U|   null| 1979.0|10282016|  null|  null|   null| 1.897628485E9| null|      B2|  2016-04-29|    1900-01-01|      2016-10-28|\n",
      "|  7.0|2016.0|   4.0| 254.0| 276.0|    ATL|20551.0|    1.0|     AL|   null|  25.0|    3.0|  1.0|20130811|     SEO| null|      G|   null|      Y|   null| 1991.0|     D/S|     M|  null|   null|  3.73679633E9|00296|      F1|  2016-04-07|    2013-08-11|      1900-01-01|\n",
      "| 15.0|2016.0|   4.0| 101.0| 101.0|    WAS|20545.0|    1.0|     MI|20691.0|  55.0|    2.0|  1.0|20160401|    null| null|      T|      O|   null|      M| 1961.0|09302016|     M|  null|     OS|  6.66643185E8|   93|      B2|  2016-04-01|    2016-04-01|      2016-09-30|\n",
      "| 16.0|2016.0|   4.0| 101.0| 101.0|    NYC|20545.0|    1.0|     MA|20567.0|  28.0|    2.0|  1.0|20160401|    null| null|      O|      O|   null|      M| 1988.0|09302016|  null|  null|     AA|9.246846133E10|00199|      B2|  2016-04-01|    2016-04-01|      2016-09-30|\n",
      "| 17.0|2016.0|   4.0| 101.0| 101.0|    NYC|20545.0|    1.0|     MA|20567.0|   4.0|    2.0|  1.0|20160401|    null| null|      O|      O|   null|      M| 2012.0|09302016|  null|  null|     AA|9.246846313E10|00199|      B2|  2016-04-01|    2016-04-01|      2016-09-30|\n",
      "+-----+------+------+------+------+-------+-------+-------+-------+-------+------+-------+-----+--------+--------+-----+-------+-------+-------+-------+-------+--------+------+------+-------+--------------+-----+--------+------------+--------------+----------------+\n",
      "only showing top 5 rows\n",
      "\n"
     ]
    }
   ],
   "source": [
    "df_immigration_spark.show(5)"
   ]
  },
  {
   "cell_type": "code",
   "execution_count": 61,
   "metadata": {
    "editable": true
   },
   "outputs": [],
   "source": [
    "#Converting all decimals to integer\n",
    "df_immigration_spark = df_immigration_spark.withColumn(\"i94yr\",df_immigration_spark.i94yr.cast('int'))\\\n",
    ".withColumn(\"i94mon\",df_immigration_spark.i94mon.cast('int'))\\\n",
    ".withColumn(\"i94cit\",df_immigration_spark.i94cit.cast('int'))\\\n",
    ".withColumn(\"i94res\",df_immigration_spark.i94res.cast('int'))\\\n",
    ".withColumn(\"arrdate\",df_immigration_spark.arrdate.cast('int'))\\\n",
    ".withColumn(\"i94mode\",df_immigration_spark.i94mode.cast('int'))\\\n",
    ".withColumn(\"depdate\",df_immigration_spark.depdate.cast('int'))\\\n",
    ".withColumn(\"i94bir\",df_immigration_spark.i94bir.cast('int'))\\\n",
    ".withColumn(\"dtadfile\",df_immigration_spark.dtadfile.cast('int'))\\\n",
    ".withColumn(\"biryear\",df_immigration_spark.biryear.cast('int'))\\\n",
    ".withColumn(\"admnum\",df_immigration_spark.admnum.cast('int'))\\\n",
    ".withColumn(\"i94visa\",df_immigration_spark.i94visa.cast('int'))\n"
   ]
  },
  {
   "cell_type": "code",
   "execution_count": 62,
   "metadata": {
    "editable": true
   },
   "outputs": [],
   "source": [
    "#converting dates\n",
    "df_immigration_spark = df_immigration_spark.withColumn(\"arrdate\",udf_datetime_from_sas(df_immigration_spark.arrdate))\\\n",
    ".withColumn(\"depdate\",udf_datetime_from_sas(df_immigration_spark.depdate))\\\n",
    ".withColumn(\"dtadfile\",udf_datetime_from_YYYYMMDD(df_immigration_spark.dtadfile))\\\n",
    ".withColumn(\"dtaddto\",udf_datetime_from_MMDDYYYY(df_immigration_spark.dtaddto))\\\n",
    ".withColumn(\"airline\",udf_remove_Special_Char(df_immigration_spark.airline))"
   ]
  },
  {
   "cell_type": "code",
   "execution_count": 63,
   "metadata": {
    "editable": true
   },
   "outputs": [
    {
     "name": "stdout",
     "output_type": "stream",
     "text": [
      "+-----+-----+------+------+------+-------+----------+-------+-------+----------+------+-------+-----+----------+--------+-----+-------+-------+-------+-------+-------+----------+------+------+-------+----------+-----+--------+------------+--------------+----------------+\n",
      "|cicid|i94yr|i94mon|i94cit|i94res|i94port|   arrdate|i94mode|i94addr|   depdate|i94bir|i94visa|count|  dtadfile|visapost|occup|entdepa|entdepd|entdepu|matflag|biryear|   dtaddto|gender|insnum|airline|    admnum|fltno|visatype|Arrival_Date|I94_added_date|VISA_Expiry_date|\n",
      "+-----+-----+------+------+------+-------+----------+-------+-------+----------+------+-------+-----+----------+--------+-----+-------+-------+-------+-------+-------+----------+------+------+-------+----------+-----+--------+------------+--------------+----------------+\n",
      "|610.0| 2016|     4|   103|   103|    LVG|2016-04-01|      1|     NV|2016-04-02|    58|      2|  1.0|2016-04-01|     BRL| null|      G|      R|   null|      M|   1958|2016-09-30|     M|  null|     GA|2147483647|VPCSW|      B2|  2016-04-01|    2016-04-01|      2016-09-30|\n",
      "+-----+-----+------+------+------+-------+----------+-------+-------+----------+------+-------+-----+----------+--------+-----+-------+-------+-------+-------+-------+----------+------+------+-------+----------+-----+--------+------------+--------------+----------------+\n",
      "\n",
      "CPU times: user 6.97 ms, sys: 1.02 ms, total: 7.99 ms\n",
      "Wall time: 34.7 s\n"
     ]
    }
   ],
   "source": [
    "%%time\n",
    "#Top 4 records where cicid=610\n",
    "df_immigration_spark.filter(df_immigration_spark.cicid==610).show(4)"
   ]
  },
  {
   "cell_type": "markdown",
   "metadata": {
    "editable": true
   },
   "source": []
  },
  {
   "cell_type": "code",
   "execution_count": 72,
   "metadata": {
    "editable": true
   },
   "outputs": [],
   "source": [
    "#Reading SAS source file names\n",
    "src_sas_path='../../data/18-83510-I94-Data-2016'\n",
    "sas_source_files =[]\n",
    "for i in os.listdir(src_sas_path):\n",
    "    sas_source_files.append(os.path.join(src_sas_path,i))"
   ]
  },
  {
   "cell_type": "code",
   "execution_count": 73,
   "metadata": {
    "editable": true
   },
   "outputs": [
    {
     "name": "stdout",
     "output_type": "stream",
     "text": [
      "../../data/18-83510-I94-Data-2016/i94_apr16_sub.sas7bdat\n",
      "../../data/18-83510-I94-Data-2016/i94_sep16_sub.sas7bdat\n",
      "../../data/18-83510-I94-Data-2016/i94_nov16_sub.sas7bdat\n",
      "../../data/18-83510-I94-Data-2016/i94_mar16_sub.sas7bdat\n",
      "../../data/18-83510-I94-Data-2016/i94_jun16_sub.sas7bdat\n",
      "../../data/18-83510-I94-Data-2016/i94_aug16_sub.sas7bdat\n",
      "../../data/18-83510-I94-Data-2016/i94_may16_sub.sas7bdat\n",
      "../../data/18-83510-I94-Data-2016/i94_jan16_sub.sas7bdat\n",
      "../../data/18-83510-I94-Data-2016/i94_oct16_sub.sas7bdat\n",
      "../../data/18-83510-I94-Data-2016/i94_jul16_sub.sas7bdat\n",
      "../../data/18-83510-I94-Data-2016/i94_feb16_sub.sas7bdat\n",
      "../../data/18-83510-I94-Data-2016/i94_dec16_sub.sas7bdat\n"
     ]
    }
   ],
   "source": [
    "#Printing the source file names\n",
    "for i in sas_source_files:\n",
    "    print(i)"
   ]
  },
  {
   "cell_type": "code",
   "execution_count": 74,
   "metadata": {
    "editable": true
   },
   "outputs": [],
   "source": [
    "#Keeping only 2 sample files in sas_source_files list \n",
    "sas_source_files = sas_source_files[0:1]"
   ]
  },
  {
   "cell_type": "code",
   "execution_count": 77,
   "metadata": {
    "editable": true
   },
   "outputs": [
    {
     "data": {
      "text/plain": [
       "['../../data/18-83510-I94-Data-2016/i94_apr16_sub.sas7bdat']"
      ]
     },
     "execution_count": 77,
     "metadata": {},
     "output_type": "execute_result"
    }
   ],
   "source": [
    "sas_source_files"
   ]
  },
  {
   "cell_type": "code",
   "execution_count": 76,
   "metadata": {
    "editable": true
   },
   "outputs": [
    {
     "name": "stdout",
     "output_type": "stream",
     "text": [
      "File ../../data/18-83510-I94-Data-2016/i94_apr16_sub.sas7bdat process completed...\n",
      "CPU times: user 30.2 ms, sys: 966 µs, total: 31.2 ms\n",
      "Wall time: 1min 59s\n"
     ]
    }
   ],
   "source": [
    "%%time\n",
    "#1. Converting all non date fields to human readable date format.\n",
    "#2. Convert float data columns trypes to int.\n",
    "#3. Remove * infront of Airline code.\n",
    "#4. When reading other Text static files into dataframe, clean the signle quotes.\n",
    "\n",
    "def read_sas_files(file_path):\n",
    "    file_path = str(file_path)\n",
    "    #extracting month and year part from the file\n",
    "    tgt_path = file_path[file_path.find('/i94_')+5:file_path.find('_sub')]\n",
    "    \n",
    "    #converting all float fields to Number format\n",
    "    df_spark = spark.read.format('com.github.saurfang.sas.spark').load(file_path)\n",
    "    df_spark = df_spark.withColumn(\"i94yr\",df_spark.i94yr.cast('int'))\\\n",
    "      .withColumn(\"i94mon\",df_spark.i94mon.cast('int'))\\\n",
    "      .withColumn(\"i94cit\",df_spark.i94cit.cast('int'))\\\n",
    "      .withColumn(\"i94res\",df_spark.i94res.cast('int'))\\\n",
    "      .withColumn(\"arrdate\",df_spark.arrdate.cast('int'))\\\n",
    "      .withColumn(\"i94mode\",df_spark.i94mode.cast('int'))\\\n",
    "      .withColumn(\"depdate\",df_spark.depdate.cast('int'))\\\n",
    "      .withColumn(\"i94bir\",df_spark.i94bir.cast('int'))\\\n",
    "      .withColumn(\"dtadfile\",df_spark.dtadfile.cast('int'))\\\n",
    "      .withColumn(\"biryear\",df_spark.biryear.cast('int'))\\\n",
    "      .withColumn(\"admnum\",df_spark.admnum.cast('int'))\\\n",
    "      .withColumn(\"i94visa\",df_spark.i94visa.cast('int'))\n",
    "    \n",
    "    #Converting string to date format\n",
    "    df_spark = df_spark.withColumn(\"arrdate\",udf_datetime_from_sas(df_spark.arrdate))\\\n",
    "      .withColumn(\"depdate\",udf_datetime_from_sas(df_spark.depdate))\\\n",
    "      .withColumn(\"dtadfile\",udf_datetime_from_YYYYMMDD(df_spark.dtadfile))\\\n",
    "      .withColumn(\"dtaddto\",udf_datetime_from_MMDDYYYY(df_spark.dtaddto))\\\n",
    "      .withColumn(\"airline\",udf_remove_Special_Char(df_spark.airline))\n",
    "    \n",
    "    df_spark.write.parquet(\"results/\"+tgt_path)\n",
    "    return [file_path,df_spark]\n",
    "\n",
    "#using Concurrent futures to execute the reading and writing the files in Parallel.\n",
    "#This work only if the server has CPU and Memory capabilities to process the tasks in parallel.\n",
    "\n",
    "max_workers = len(sas_source_files)\n",
    "with ThreadPoolExecutor(max_workers=max_workers) as executor:\n",
    "    future_count = {executor.submit(read_sas_files,file_path) : file_path for file_path in sas_source_files}\n",
    "    for record in concurrent.futures.as_completed(future_count):\n",
    "        print('File '+record.result()[0]+' process completed...')\n",
    "        #print(record.result()[1].show(2))"
   ]
  },
  {
   "cell_type": "markdown",
   "metadata": {
    "editable": true
   },
   "source": [
    "### Step 3: Define the Data Model\n",
    "#### 3.1 Conceptual Data Model\n",
    "Based on the Source data, prepared the below conceptual model and you can derive many solutions based on this data\n",
    "\n",
    "<img src=\"Immigration and Temperature DB Logical Design.jpg\" >\n",
    "\n",
    "\n",
    "#### 3.2 Mapping Out Data Pipelines\n",
    "\n",
    "##### Steps:\n",
    "**General Solution (Local Machine):**\n",
    "* Extract source files into DataFrame.\n",
    "* Transform/Cleanup the data in the DataFrame.\n",
    "* Load all DataFrames into corresponding **Parquet** files.\n",
    "* Analyze the data.\n",
    "\n",
    "**Cloud Solution (AWS EMR):**\n",
    "* Create Tables in Cloud Database.\n",
    "* Extract source data into DataFrames.\n",
    "* Transform/Cleanup the data in the DataFrame.\n",
    "* Load the data into DIM Tables.\n",
    "* Load the Fact table.\n",
    "* Analyze the data.\n",
    "\n",
    "Note: This is kind of Data Lake, there is no order in reading/writing. Only when you anlayze the quries, you need the data in all tables.\n",
    "\n",
    "<img src=\"Data Flow Diagram.jpg\" />"
   ]
  },
  {
   "cell_type": "markdown",
   "metadata": {
    "editable": true
   },
   "source": [
    "### Step 4: Run Pipelines to Model the Data \n",
    "#### 4.1 Create the data model\n",
    "\n",
    "##### Physical Data Model (Star Schema):\n",
    "\n",
    "###### Dimention Tables:\n",
    "<p style = \"font-size:12px\">\n",
    "CREATE TABLE AIRPORTS_CODES_DIM(<br>\n",
    "IDENTIFICATION VARCHAR(10) NOT NULL,<br>\n",
    "NAME VARCHAR(100),<br>\n",
    "TYPE VARCHAR(30),<br>\n",
    "CONTINENT VARCHAR(10),<br>\n",
    "COUNTRY VARCHAR(10),<br>\n",
    "CITY VARCHAR(10),<br>\n",
    "MUNICIPALITY VARCHAR(50),<br>\n",
    "PRIMARY KEY(IDENTIFICATION))<br>\n",
    "DISTSTYLE ALL;<br>\n",
    "<br>\n",
    "CREATE TABLE US_CITY_DEMOGRAPHIC_DIM(<br>\n",
    "ID INT NOT NULL,<br>\n",
    "STATE VARCHAR(10),<br>\n",
    "CITY VARCHAR(50),<br>\n",
    "RECORD_TIMESTAMP TIMESTAMP,<br>\n",
    "TOTAL_POPULATION  BIGINT,<br>\n",
    "MALE_POPULATION BIGINT,<br>\n",
    "FEMALE_POPULATION BIGINT,<br>\n",
    "COUNT BIGINT,<br>\n",
    "MEDIAN_AGE  SMALLINT,<br>\n",
    "AVERAGE_HOUSEHOLD_SIZE SMALLINT,<br>\n",
    "RACE  VARCHAR(50),<br>\n",
    "FOREIGN_BORN BIGINT,<br>\n",
    "NUMBER_OF_VETERANS  SMALLINT,<br>\n",
    "PRIMARY KEY(ID))<br>\n",
    "DISTSTYLE ALL;<br>\n",
    "<br>\n",
    "CREATE TABLE 194_PORT_DIM(<br>\n",
    "PORT_CODE VARCHAR(5),<br>\n",
    "STATE VARCHAR(5),<br>\n",
    "CITY VARCHAR(30),<br>\n",
    "PRIMARY KEY(PORT_CODE))<br>\n",
    "DISTSTYLE ALL;<br>\n",
    "<br>\n",
    "CREATE TABLE 194_ENTRY_MODE_DIM(<br>\n",
    "ENTRY_CODE SMALLINT NOT NULL,<br>\n",
    "ENTRY_DESC VARCHAR(15) NOT NULL,<br>\n",
    "PRIMARY KEY(ENTRY_CODE))<br>\n",
    "DISTSTYLE ALL;<br>\n",
    "<br>\n",
    "CREATE TABLE 194_ADDRESS_DIM(<br>\n",
    "STATE_CODE  CHAR(2) NOT NULL,<br>\n",
    "STATE VARCHAR(30),<br>\n",
    "PRIMARY KEY(STATE_CODE))<br>\n",
    "DISTSTYLE ALL;<br>\n",
    "<br>\n",
    "CREATE TABLE 194_VISA_DIM(<br>\n",
    "VISA_CODE SMALLINT NOT NULL,<br>\n",
    "VISA_DESC VARCHAR(20) NOT NULL,<br>\n",
    "PRIMARY KEY(VISA_CODE))<br>\n",
    "DISTSTYLE ALL;<br>\n",
    "<br>\n",
    "CREATE TABLE DATE_DIM(<br>\n",
    "DATE DATE NOT NULL,<br>\n",
    "DAY  SMALLINT,<br>\n",
    "MONTH SMALLINT,<br>\n",
    "YEAR INTEGER<br>\n",
    "DAY_OF_WEEK SMALLINT,<br>\n",
    "WEEK_OF_YEAR SMALLINT,<br>\n",
    "PRIMARY KEY(DATE))<br>\n",
    "DISTSTYLE ALL;<br>\n",
    "<br>\n",
    "CREATE TABLE GLOBAL_WEATHER_DIM(<br>\n",
    "ID SMALLINT NOT NULL,<br>\n",
    "DATE DATE,<br>\n",
    "CITY VARCHAR(70),<br>\n",
    "COUNTRY VARCHAR(30),<br>\n",
    "AVERAGE_TEMPERATURE SMALLINT,<br>\n",
    "AVERAGE_TEMPERATURE_UNCERTAIN SMALLINT,<br>\n",
    "LATITUDE SMALLINT,<br>\n",
    "LONGITUDE SMALLINT,<br>\n",
    "PRIMARY KEY(ID))<br>\n",
    "DISTSTYLE ALL;<br>\n",
    "<br>\n",
    "CREATE TABLE 194_CIT_RES_DIM(<br>\n",
    "CODE SMALLINT NOT NULL,<br>\n",
    "COUNTRY VARCHAR(50),<br>\n",
    "PRIMARY KEY(CODE))<br>\n",
    "DISTSTYLE ALL;</p>\n",
    "<br>\n",
    "\n",
    "###### Fact Table:\n",
    "<p style = \"font-size:12px\">\n",
    "CREATE TABLE IF NOT EXISTS 194_IMMIGRATION_FACT(<br>\n",
    "ADMISSION_NUMBER INTEGER NOT NULL,<br>\n",
    "YEAR YEAR NOT NULL,<br>\n",
    "MONTH MONTH NOT NULL,<br>\n",
    "I94_CITY  SMALLINT NOT NULL,<br>\n",
    "I94_RES  SMALLINT NOT NULL,<br>\n",
    "PORT  VARCHAR(10),<br>\n",
    "ARRIVAL_DATE DATE NOT NULL,<br>\n",
    "ENTRY_MODE SMALLINT,<br>\n",
    "ARRIVAL_STATE VARCHAR(5),<br>\n",
    "AGE SMALLINT,<br>\n",
    "VISA_CODE SMALLINT,<br>\n",
    "VISA_POST VARCHAR(20),<br>\n",
    "OCCUPATION VARCHAR(50),<br>\n",
    "ARRIVAL_FLAG CHAR(1),<br>\n",
    "DEPARTURE_FLAG CHAR(1),<br>\n",
    "UPDATE_FLAG CHAR(1),<br>\n",
    "MATCH_FLAG CHAR(1),<br>\n",
    "VISA_EXPIRE_DATE DATE NOT NULL,<br>\n",
    "GENDER CHAR(1),<br>\n",
    "AIRLINE VARCHAR(5),<br>\n",
    "FLIGHT_NUMBER VARCHAR(10),<br>\n",
    "VISA_TYPE VARCHAR(10),<br>\n",
    "PRIMARY KEY(ADMISSION_NUMBER))<br>\n",
    ");<br>\n",
    "<br>\n",
    "</p>"
   ]
  },
  {
   "cell_type": "markdown",
   "metadata": {
    "editable": true
   },
   "source": [
    "#### 4.2 Data Quality Checks\n",
    "Explain the data quality checks you'll perform to ensure the pipeline ran as expected. These could include:\n",
    " * Integrity constraints on the relational database (e.g., unique key, data type, etc.)\n",
    " * Unit tests for the scripts to ensure they are doing the right thing\n",
    " * Source/Count checks to ensure completeness\n",
    " \n",
    "Run Quality Checks"
   ]
  },
  {
   "cell_type": "code",
   "execution_count": 39,
   "metadata": {
    "editable": true
   },
   "outputs": [],
   "source": [
    "#Creating Spark session with sas data\n",
    "spark = SparkSession.builder.\\\n",
    "config(\"spark.jars.packages\",\"saurfang:spark-sas7bdat:2.0.0-s_2.11\")\\\n",
    ".enableHiveSupport().getOrCreate()"
   ]
  },
  {
   "cell_type": "code",
   "execution_count": 40,
   "metadata": {
    "editable": true
   },
   "outputs": [],
   "source": [
    "#Reading all Parquet files\n",
    "df_spark_par=spark.read.parquet(\"results/*/\")"
   ]
  },
  {
   "cell_type": "code",
   "execution_count": 41,
   "metadata": {
    "editable": true
   },
   "outputs": [
    {
     "name": "stdout",
     "output_type": "stream",
     "text": [
      "CPU times: user 0 ns, sys: 1.58 ms, total: 1.58 ms\n",
      "Wall time: 2.66 s\n"
     ]
    },
    {
     "data": {
      "text/plain": [
       "3096313"
      ]
     },
     "execution_count": 41,
     "metadata": {},
     "output_type": "execute_result"
    }
   ],
   "source": [
    "%%time\n",
    "#record count\n",
    "df_spark_par.count()"
   ]
  },
  {
   "cell_type": "code",
   "execution_count": 82,
   "metadata": {
    "editable": true
   },
   "outputs": [
    {
     "name": "stdout",
     "output_type": "stream",
     "text": [
      "CPU times: user 0 ns, sys: 5.05 ms, total: 5.05 ms\n",
      "Wall time: 38.6 s\n"
     ]
    },
    {
     "data": {
      "text/plain": [
       "3096313"
      ]
     },
     "execution_count": 82,
     "metadata": {},
     "output_type": "execute_result"
    }
   ],
   "source": [
    "%%time\n",
    "#distinct records\n",
    "df_spark_par.distinct().count()"
   ]
  },
  {
   "cell_type": "code",
   "execution_count": 85,
   "metadata": {
    "editable": true
   },
   "outputs": [
    {
     "data": {
      "text/html": [
       "<div>\n",
       "<style scoped>\n",
       "    .dataframe tbody tr th:only-of-type {\n",
       "        vertical-align: middle;\n",
       "    }\n",
       "\n",
       "    .dataframe tbody tr th {\n",
       "        vertical-align: top;\n",
       "    }\n",
       "\n",
       "    .dataframe thead th {\n",
       "        text-align: right;\n",
       "    }\n",
       "</style>\n",
       "<table border=\"1\" class=\"dataframe\">\n",
       "  <thead>\n",
       "    <tr style=\"text-align: right;\">\n",
       "      <th></th>\n",
       "      <th>i94port</th>\n",
       "      <th>count</th>\n",
       "    </tr>\n",
       "  </thead>\n",
       "  <tbody>\n",
       "    <tr>\n",
       "      <th>0</th>\n",
       "      <td>NYC</td>\n",
       "      <td>485916</td>\n",
       "    </tr>\n",
       "    <tr>\n",
       "      <th>1</th>\n",
       "      <td>MIA</td>\n",
       "      <td>343941</td>\n",
       "    </tr>\n",
       "    <tr>\n",
       "      <th>2</th>\n",
       "      <td>LOS</td>\n",
       "      <td>310163</td>\n",
       "    </tr>\n",
       "  </tbody>\n",
       "</table>\n",
       "</div>"
      ],
      "text/plain": [
       "  i94port   count\n",
       "0     NYC  485916\n",
       "1     MIA  343941\n",
       "2     LOS  310163"
      ]
     },
     "execution_count": 85,
     "metadata": {},
     "output_type": "execute_result"
    }
   ],
   "source": [
    "#give me the largest airport name most people travelled in 2016 Apr\n",
    "df_pd_i94port_top3 = df_spark_par.groupBy('i94port').count().sort('count',ascending=False).toPandas().head(3)\n",
    "df_pd_i94port_top3.head()"
   ]
  },
  {
   "cell_type": "code",
   "execution_count": 86,
   "metadata": {
    "editable": true
   },
   "outputs": [
    {
     "data": {
      "text/html": [
       "<div>\n",
       "<style scoped>\n",
       "    .dataframe tbody tr th:only-of-type {\n",
       "        vertical-align: middle;\n",
       "    }\n",
       "\n",
       "    .dataframe tbody tr th {\n",
       "        vertical-align: top;\n",
       "    }\n",
       "\n",
       "    .dataframe thead th {\n",
       "        text-align: right;\n",
       "    }\n",
       "</style>\n",
       "<table border=\"1\" class=\"dataframe\">\n",
       "  <thead>\n",
       "    <tr style=\"text-align: right;\">\n",
       "      <th></th>\n",
       "      <th>i94port</th>\n",
       "      <th>count</th>\n",
       "      <th>ident</th>\n",
       "      <th>type</th>\n",
       "      <th>name</th>\n",
       "      <th>elevation_ft</th>\n",
       "      <th>continent</th>\n",
       "      <th>iso_country</th>\n",
       "      <th>iso_region</th>\n",
       "      <th>municipality</th>\n",
       "      <th>gps_code</th>\n",
       "      <th>iata_code</th>\n",
       "      <th>local_code</th>\n",
       "      <th>coordinates</th>\n",
       "      <th>city</th>\n",
       "    </tr>\n",
       "  </thead>\n",
       "  <tbody>\n",
       "    <tr>\n",
       "      <th>0</th>\n",
       "      <td>MIA</td>\n",
       "      <td>343941</td>\n",
       "      <td>KMIA</td>\n",
       "      <td>large_airport</td>\n",
       "      <td>Miami International Airport</td>\n",
       "      <td>8.0</td>\n",
       "      <td>NaN</td>\n",
       "      <td>US</td>\n",
       "      <td>US-FL</td>\n",
       "      <td>Miami</td>\n",
       "      <td>KMIA</td>\n",
       "      <td>MIA</td>\n",
       "      <td>MIA</td>\n",
       "      <td>-80.29060363769531, 25.79319953918457</td>\n",
       "      <td>FL</td>\n",
       "    </tr>\n",
       "    <tr>\n",
       "      <th>1</th>\n",
       "      <td>LOS</td>\n",
       "      <td>310163</td>\n",
       "      <td>MX-0438</td>\n",
       "      <td>small_airport</td>\n",
       "      <td>Los Charcos Airstrip</td>\n",
       "      <td>8879.0</td>\n",
       "      <td>NaN</td>\n",
       "      <td>MX</td>\n",
       "      <td>MX-DUR</td>\n",
       "      <td>Mezquital</td>\n",
       "      <td>NaN</td>\n",
       "      <td>NaN</td>\n",
       "      <td>LOS</td>\n",
       "      <td>-104.293973, 23.000115</td>\n",
       "      <td>DUR</td>\n",
       "    </tr>\n",
       "  </tbody>\n",
       "</table>\n",
       "</div>"
      ],
      "text/plain": [
       "  i94port   count    ident           type                         name  \\\n",
       "0     MIA  343941     KMIA  large_airport  Miami International Airport   \n",
       "1     LOS  310163  MX-0438  small_airport         Los Charcos Airstrip   \n",
       "\n",
       "   elevation_ft continent iso_country iso_region municipality gps_code  \\\n",
       "0           8.0       NaN          US      US-FL        Miami     KMIA   \n",
       "1        8879.0       NaN          MX     MX-DUR    Mezquital      NaN   \n",
       "\n",
       "  iata_code local_code                            coordinates city  \n",
       "0       MIA        MIA  -80.29060363769531, 25.79319953918457   FL  \n",
       "1       NaN        LOS                 -104.293973, 23.000115  DUR  "
      ]
     },
     "execution_count": 86,
     "metadata": {},
     "output_type": "execute_result"
    }
   ],
   "source": [
    "df_pd_i94port_top3.merge(df_airport_cd,left_on='i94port',right_on='local_code')"
   ]
  },
  {
   "cell_type": "code",
   "execution_count": 49,
   "metadata": {
    "editable": true
   },
   "outputs": [
    {
     "data": {
      "text/html": [
       "<div>\n",
       "<style scoped>\n",
       "    .dataframe tbody tr th:only-of-type {\n",
       "        vertical-align: middle;\n",
       "    }\n",
       "\n",
       "    .dataframe tbody tr th {\n",
       "        vertical-align: top;\n",
       "    }\n",
       "\n",
       "    .dataframe thead th {\n",
       "        text-align: right;\n",
       "    }\n",
       "</style>\n",
       "<table border=\"1\" class=\"dataframe\">\n",
       "  <thead>\n",
       "    <tr style=\"text-align: right;\">\n",
       "      <th></th>\n",
       "      <th>ident</th>\n",
       "      <th>type</th>\n",
       "      <th>name</th>\n",
       "      <th>elevation_ft</th>\n",
       "      <th>continent</th>\n",
       "      <th>iso_country</th>\n",
       "      <th>iso_region</th>\n",
       "      <th>municipality</th>\n",
       "      <th>gps_code</th>\n",
       "      <th>iata_code</th>\n",
       "      <th>local_code</th>\n",
       "      <th>coordinates</th>\n",
       "      <th>city</th>\n",
       "    </tr>\n",
       "  </thead>\n",
       "  <tbody>\n",
       "    <tr>\n",
       "      <th>0</th>\n",
       "      <td>00A</td>\n",
       "      <td>heliport</td>\n",
       "      <td>Total Rf Heliport</td>\n",
       "      <td>11.0</td>\n",
       "      <td>NaN</td>\n",
       "      <td>US</td>\n",
       "      <td>US-PA</td>\n",
       "      <td>Bensalem</td>\n",
       "      <td>00A</td>\n",
       "      <td>NaN</td>\n",
       "      <td>00A</td>\n",
       "      <td>-74.93360137939453, 40.07080078125</td>\n",
       "      <td>PA</td>\n",
       "    </tr>\n",
       "    <tr>\n",
       "      <th>1</th>\n",
       "      <td>00AA</td>\n",
       "      <td>small_airport</td>\n",
       "      <td>Aero B Ranch Airport</td>\n",
       "      <td>3435.0</td>\n",
       "      <td>NaN</td>\n",
       "      <td>US</td>\n",
       "      <td>US-KS</td>\n",
       "      <td>Leoti</td>\n",
       "      <td>00AA</td>\n",
       "      <td>NaN</td>\n",
       "      <td>00AA</td>\n",
       "      <td>-101.473911, 38.704022</td>\n",
       "      <td>KS</td>\n",
       "    </tr>\n",
       "    <tr>\n",
       "      <th>2</th>\n",
       "      <td>00AK</td>\n",
       "      <td>small_airport</td>\n",
       "      <td>Lowell Field</td>\n",
       "      <td>450.0</td>\n",
       "      <td>NaN</td>\n",
       "      <td>US</td>\n",
       "      <td>US-AK</td>\n",
       "      <td>Anchor Point</td>\n",
       "      <td>00AK</td>\n",
       "      <td>NaN</td>\n",
       "      <td>00AK</td>\n",
       "      <td>-151.695999146, 59.94919968</td>\n",
       "      <td>AK</td>\n",
       "    </tr>\n",
       "    <tr>\n",
       "      <th>3</th>\n",
       "      <td>00AL</td>\n",
       "      <td>small_airport</td>\n",
       "      <td>Epps Airpark</td>\n",
       "      <td>820.0</td>\n",
       "      <td>NaN</td>\n",
       "      <td>US</td>\n",
       "      <td>US-AL</td>\n",
       "      <td>Harvest</td>\n",
       "      <td>00AL</td>\n",
       "      <td>NaN</td>\n",
       "      <td>00AL</td>\n",
       "      <td>-86.77030181884766, 34.86479949951172</td>\n",
       "      <td>AL</td>\n",
       "    </tr>\n",
       "    <tr>\n",
       "      <th>4</th>\n",
       "      <td>00AR</td>\n",
       "      <td>closed</td>\n",
       "      <td>Newport Hospital &amp; Clinic Heliport</td>\n",
       "      <td>237.0</td>\n",
       "      <td>NaN</td>\n",
       "      <td>US</td>\n",
       "      <td>US-AR</td>\n",
       "      <td>Newport</td>\n",
       "      <td>NaN</td>\n",
       "      <td>NaN</td>\n",
       "      <td>NaN</td>\n",
       "      <td>-91.254898, 35.6087</td>\n",
       "      <td>AR</td>\n",
       "    </tr>\n",
       "  </tbody>\n",
       "</table>\n",
       "</div>"
      ],
      "text/plain": [
       "  ident           type                                name  elevation_ft  \\\n",
       "0   00A       heliport                   Total Rf Heliport          11.0   \n",
       "1  00AA  small_airport                Aero B Ranch Airport        3435.0   \n",
       "2  00AK  small_airport                        Lowell Field         450.0   \n",
       "3  00AL  small_airport                        Epps Airpark         820.0   \n",
       "4  00AR         closed  Newport Hospital & Clinic Heliport         237.0   \n",
       "\n",
       "  continent iso_country iso_region  municipality gps_code iata_code  \\\n",
       "0       NaN          US      US-PA      Bensalem      00A       NaN   \n",
       "1       NaN          US      US-KS         Leoti     00AA       NaN   \n",
       "2       NaN          US      US-AK  Anchor Point     00AK       NaN   \n",
       "3       NaN          US      US-AL       Harvest     00AL       NaN   \n",
       "4       NaN          US      US-AR       Newport      NaN       NaN   \n",
       "\n",
       "  local_code                            coordinates city  \n",
       "0        00A     -74.93360137939453, 40.07080078125   PA  \n",
       "1       00AA                 -101.473911, 38.704022   KS  \n",
       "2       00AK            -151.695999146, 59.94919968   AK  \n",
       "3       00AL  -86.77030181884766, 34.86479949951172   AL  \n",
       "4        NaN                    -91.254898, 35.6087   AR  "
      ]
     },
     "execution_count": 49,
     "metadata": {},
     "output_type": "execute_result"
    }
   ],
   "source": [
    "df_airport_cd.head(5)"
   ]
  },
  {
   "cell_type": "code",
   "execution_count": 52,
   "metadata": {
    "editable": true
   },
   "outputs": [
    {
     "data": {
      "text/plain": [
       "array(['heliport', 'small_airport', 'closed', 'seaplane_base',\n",
       "       'balloonport', 'medium_airport', 'large_airport'], dtype=object)"
      ]
     },
     "execution_count": 52,
     "metadata": {},
     "output_type": "execute_result"
    }
   ],
   "source": [
    "df_airport_cd.type.unique()"
   ]
  },
  {
   "cell_type": "code",
   "execution_count": 92,
   "metadata": {
    "editable": true
   },
   "outputs": [
    {
     "data": {
      "text/html": [
       "<div>\n",
       "<style scoped>\n",
       "    .dataframe tbody tr th:only-of-type {\n",
       "        vertical-align: middle;\n",
       "    }\n",
       "\n",
       "    .dataframe tbody tr th {\n",
       "        vertical-align: top;\n",
       "    }\n",
       "\n",
       "    .dataframe thead th {\n",
       "        text-align: right;\n",
       "    }\n",
       "</style>\n",
       "<table border=\"1\" class=\"dataframe\">\n",
       "  <thead>\n",
       "    <tr style=\"text-align: right;\">\n",
       "      <th></th>\n",
       "      <th>ident</th>\n",
       "      <th>type</th>\n",
       "      <th>name</th>\n",
       "      <th>elevation_ft</th>\n",
       "      <th>continent</th>\n",
       "      <th>iso_country</th>\n",
       "      <th>iso_region</th>\n",
       "      <th>municipality</th>\n",
       "      <th>gps_code</th>\n",
       "      <th>iata_code</th>\n",
       "      <th>local_code</th>\n",
       "      <th>coordinates</th>\n",
       "      <th>city</th>\n",
       "    </tr>\n",
       "  </thead>\n",
       "  <tbody>\n",
       "    <tr>\n",
       "      <th>26279</th>\n",
       "      <td>KBUF</td>\n",
       "      <td>large_airport</td>\n",
       "      <td>Buffalo Niagara International Airport</td>\n",
       "      <td>728.0</td>\n",
       "      <td>NaN</td>\n",
       "      <td>US</td>\n",
       "      <td>US-NY</td>\n",
       "      <td>Buffalo</td>\n",
       "      <td>KBUF</td>\n",
       "      <td>BUF</td>\n",
       "      <td>BUF</td>\n",
       "      <td>-78.73220062, 42.94049835</td>\n",
       "      <td>NY</td>\n",
       "    </tr>\n",
       "    <tr>\n",
       "      <th>27679</th>\n",
       "      <td>KJFK</td>\n",
       "      <td>large_airport</td>\n",
       "      <td>John F Kennedy International Airport</td>\n",
       "      <td>13.0</td>\n",
       "      <td>NaN</td>\n",
       "      <td>US</td>\n",
       "      <td>US-NY</td>\n",
       "      <td>New York</td>\n",
       "      <td>KJFK</td>\n",
       "      <td>JFK</td>\n",
       "      <td>JFK</td>\n",
       "      <td>-73.77890015, 40.63980103</td>\n",
       "      <td>NY</td>\n",
       "    </tr>\n",
       "    <tr>\n",
       "      <th>27819</th>\n",
       "      <td>KLGA</td>\n",
       "      <td>large_airport</td>\n",
       "      <td>La Guardia Airport</td>\n",
       "      <td>21.0</td>\n",
       "      <td>NaN</td>\n",
       "      <td>US</td>\n",
       "      <td>US-NY</td>\n",
       "      <td>New York</td>\n",
       "      <td>KLGA</td>\n",
       "      <td>LGA</td>\n",
       "      <td>LGA</td>\n",
       "      <td>-73.87259674, 40.77719879</td>\n",
       "      <td>NY</td>\n",
       "    </tr>\n",
       "    <tr>\n",
       "      <th>29806</th>\n",
       "      <td>KROC</td>\n",
       "      <td>large_airport</td>\n",
       "      <td>Greater Rochester International Airport</td>\n",
       "      <td>559.0</td>\n",
       "      <td>NaN</td>\n",
       "      <td>US</td>\n",
       "      <td>US-NY</td>\n",
       "      <td>Rochester</td>\n",
       "      <td>KROC</td>\n",
       "      <td>ROC</td>\n",
       "      <td>ROC</td>\n",
       "      <td>-77.67240142822266, 43.118900299072266</td>\n",
       "      <td>NY</td>\n",
       "    </tr>\n",
       "    <tr>\n",
       "      <th>30055</th>\n",
       "      <td>KSYR</td>\n",
       "      <td>large_airport</td>\n",
       "      <td>Syracuse Hancock International Airport</td>\n",
       "      <td>421.0</td>\n",
       "      <td>NaN</td>\n",
       "      <td>US</td>\n",
       "      <td>US-NY</td>\n",
       "      <td>Syracuse</td>\n",
       "      <td>KSYR</td>\n",
       "      <td>SYR</td>\n",
       "      <td>SYR</td>\n",
       "      <td>-76.1063003540039, 43.11119842529297</td>\n",
       "      <td>NY</td>\n",
       "    </tr>\n",
       "    <tr>\n",
       "      <th>49898</th>\n",
       "      <td>US-0883</td>\n",
       "      <td>large_airport</td>\n",
       "      <td>JFK</td>\n",
       "      <td>NaN</td>\n",
       "      <td>NaN</td>\n",
       "      <td>US</td>\n",
       "      <td>US-NY</td>\n",
       "      <td>New York</td>\n",
       "      <td>NaN</td>\n",
       "      <td>NaN</td>\n",
       "      <td>NaN</td>\n",
       "      <td>0, 0</td>\n",
       "      <td>NY</td>\n",
       "    </tr>\n",
       "    <tr>\n",
       "      <th>50032</th>\n",
       "      <td>US-1016</td>\n",
       "      <td>large_airport</td>\n",
       "      <td>JFK</td>\n",
       "      <td>NaN</td>\n",
       "      <td>NaN</td>\n",
       "      <td>US</td>\n",
       "      <td>US-NY</td>\n",
       "      <td>New York City</td>\n",
       "      <td>NaN</td>\n",
       "      <td>NaN</td>\n",
       "      <td>NaN</td>\n",
       "      <td>0, 0</td>\n",
       "      <td>NY</td>\n",
       "    </tr>\n",
       "  </tbody>\n",
       "</table>\n",
       "</div>"
      ],
      "text/plain": [
       "         ident           type                                     name  \\\n",
       "26279     KBUF  large_airport    Buffalo Niagara International Airport   \n",
       "27679     KJFK  large_airport     John F Kennedy International Airport   \n",
       "27819     KLGA  large_airport                       La Guardia Airport   \n",
       "29806     KROC  large_airport  Greater Rochester International Airport   \n",
       "30055     KSYR  large_airport   Syracuse Hancock International Airport   \n",
       "49898  US-0883  large_airport                                      JFK   \n",
       "50032  US-1016  large_airport                                      JFK   \n",
       "\n",
       "       elevation_ft continent iso_country iso_region   municipality gps_code  \\\n",
       "26279         728.0       NaN          US      US-NY        Buffalo     KBUF   \n",
       "27679          13.0       NaN          US      US-NY       New York     KJFK   \n",
       "27819          21.0       NaN          US      US-NY       New York     KLGA   \n",
       "29806         559.0       NaN          US      US-NY      Rochester     KROC   \n",
       "30055         421.0       NaN          US      US-NY       Syracuse     KSYR   \n",
       "49898           NaN       NaN          US      US-NY       New York      NaN   \n",
       "50032           NaN       NaN          US      US-NY  New York City      NaN   \n",
       "\n",
       "      iata_code local_code                             coordinates city  \n",
       "26279       BUF        BUF               -78.73220062, 42.94049835   NY  \n",
       "27679       JFK        JFK               -73.77890015, 40.63980103   NY  \n",
       "27819       LGA        LGA               -73.87259674, 40.77719879   NY  \n",
       "29806       ROC        ROC  -77.67240142822266, 43.118900299072266   NY  \n",
       "30055       SYR        SYR    -76.1063003540039, 43.11119842529297   NY  \n",
       "49898       NaN        NaN                                    0, 0   NY  \n",
       "50032       NaN        NaN                                    0, 0   NY  "
      ]
     },
     "execution_count": 92,
     "metadata": {},
     "output_type": "execute_result"
    }
   ],
   "source": [
    "#df_airport_cd.query('type == \"seaplane_base\"').head(3)\n",
    "df_airport_cd.query('local_code == \"NYC\"').head(3)\n",
    "df_airport_cd.query('type == \"large_airport\" and city==\"NY\"')"
   ]
  },
  {
   "cell_type": "code",
   "execution_count": 57,
   "metadata": {
    "editable": true
   },
   "outputs": [
    {
     "data": {
      "text/html": [
       "<div>\n",
       "<style scoped>\n",
       "    .dataframe tbody tr th:only-of-type {\n",
       "        vertical-align: middle;\n",
       "    }\n",
       "\n",
       "    .dataframe tbody tr th {\n",
       "        vertical-align: top;\n",
       "    }\n",
       "\n",
       "    .dataframe thead th {\n",
       "        text-align: right;\n",
       "    }\n",
       "</style>\n",
       "<table border=\"1\" class=\"dataframe\">\n",
       "  <thead>\n",
       "    <tr style=\"text-align: right;\">\n",
       "      <th></th>\n",
       "      <th>Port_Code</th>\n",
       "      <th>State</th>\n",
       "      <th>City</th>\n",
       "    </tr>\n",
       "  </thead>\n",
       "  <tbody>\n",
       "    <tr>\n",
       "      <th>0</th>\n",
       "      <td>ALC</td>\n",
       "      <td>AK</td>\n",
       "      <td>ALCAN</td>\n",
       "    </tr>\n",
       "    <tr>\n",
       "      <th>1</th>\n",
       "      <td>ANC</td>\n",
       "      <td>AK</td>\n",
       "      <td>ANCHORAGE</td>\n",
       "    </tr>\n",
       "    <tr>\n",
       "      <th>2</th>\n",
       "      <td>BAR</td>\n",
       "      <td>AK</td>\n",
       "      <td>BAKER AAF - BAKER ISLAND</td>\n",
       "    </tr>\n",
       "    <tr>\n",
       "      <th>3</th>\n",
       "      <td>DAC</td>\n",
       "      <td>AK</td>\n",
       "      <td>DALTONS CACHE</td>\n",
       "    </tr>\n",
       "    <tr>\n",
       "      <th>4</th>\n",
       "      <td>PIZ</td>\n",
       "      <td>AK</td>\n",
       "      <td>DEW STATION PT LAY DEW</td>\n",
       "    </tr>\n",
       "  </tbody>\n",
       "</table>\n",
       "</div>"
      ],
      "text/plain": [
       "  Port_Code State                      City\n",
       "0       ALC    AK                     ALCAN\n",
       "1       ANC    AK                 ANCHORAGE\n",
       "2       BAR    AK  BAKER AAF - BAKER ISLAND\n",
       "3       DAC    AK             DALTONS CACHE\n",
       "4       PIZ    AK    DEW STATION PT LAY DEW"
      ]
     },
     "execution_count": 57,
     "metadata": {},
     "output_type": "execute_result"
    }
   ],
   "source": [
    "df_i94ports_pd.head(5)"
   ]
  },
  {
   "cell_type": "code",
   "execution_count": 62,
   "metadata": {
    "editable": true
   },
   "outputs": [
    {
     "data": {
      "text/html": [
       "<div>\n",
       "<style scoped>\n",
       "    .dataframe tbody tr th:only-of-type {\n",
       "        vertical-align: middle;\n",
       "    }\n",
       "\n",
       "    .dataframe tbody tr th {\n",
       "        vertical-align: top;\n",
       "    }\n",
       "\n",
       "    .dataframe thead th {\n",
       "        text-align: right;\n",
       "    }\n",
       "</style>\n",
       "<table border=\"1\" class=\"dataframe\">\n",
       "  <thead>\n",
       "    <tr style=\"text-align: right;\">\n",
       "      <th></th>\n",
       "      <th>ident</th>\n",
       "      <th>type</th>\n",
       "      <th>name</th>\n",
       "      <th>elevation_ft</th>\n",
       "      <th>continent</th>\n",
       "      <th>iso_country</th>\n",
       "      <th>iso_region</th>\n",
       "      <th>municipality</th>\n",
       "      <th>gps_code</th>\n",
       "      <th>iata_code</th>\n",
       "      <th>local_code</th>\n",
       "      <th>coordinates</th>\n",
       "      <th>city</th>\n",
       "      <th>Port_Code</th>\n",
       "      <th>State</th>\n",
       "      <th>City</th>\n",
       "    </tr>\n",
       "  </thead>\n",
       "  <tbody>\n",
       "    <tr>\n",
       "      <th>0</th>\n",
       "      <td>48Y</td>\n",
       "      <td>small_airport</td>\n",
       "      <td>Piney Pinecreek Border Airport</td>\n",
       "      <td>1078.0</td>\n",
       "      <td>NaN</td>\n",
       "      <td>US</td>\n",
       "      <td>US-MN</td>\n",
       "      <td>Pinecreek</td>\n",
       "      <td>48Y</td>\n",
       "      <td>NaN</td>\n",
       "      <td>48Y</td>\n",
       "      <td>-95.98259735107422, 48.99959945678711</td>\n",
       "      <td>MN</td>\n",
       "      <td>48Y</td>\n",
       "      <td>MN</td>\n",
       "      <td>PINECREEK BORDER ARPT</td>\n",
       "    </tr>\n",
       "    <tr>\n",
       "      <th>1</th>\n",
       "      <td>5KE</td>\n",
       "      <td>seaplane_base</td>\n",
       "      <td>Ketchikan Harbor Seaplane Base</td>\n",
       "      <td>NaN</td>\n",
       "      <td>NaN</td>\n",
       "      <td>US</td>\n",
       "      <td>US-AK</td>\n",
       "      <td>Ketchikan</td>\n",
       "      <td>NaN</td>\n",
       "      <td>WFB</td>\n",
       "      <td>5KE</td>\n",
       "      <td>-131.677002, 55.349899</td>\n",
       "      <td>AK</td>\n",
       "      <td>5KE</td>\n",
       "      <td>AK</td>\n",
       "      <td>KETCHIKAN</td>\n",
       "    </tr>\n",
       "    <tr>\n",
       "      <th>2</th>\n",
       "      <td>AEK</td>\n",
       "      <td>small_airport</td>\n",
       "      <td>Aseki Airport</td>\n",
       "      <td>4106.0</td>\n",
       "      <td>OC</td>\n",
       "      <td>PG</td>\n",
       "      <td>PG-MPL</td>\n",
       "      <td>Aseki</td>\n",
       "      <td>AYAX</td>\n",
       "      <td>AEK</td>\n",
       "      <td>ASE</td>\n",
       "      <td>146.19386673, -7.35080485552</td>\n",
       "      <td>MPL</td>\n",
       "      <td>ASE</td>\n",
       "      <td>CO #ARPT</td>\n",
       "      <td>ASPEN</td>\n",
       "    </tr>\n",
       "    <tr>\n",
       "      <th>3</th>\n",
       "      <td>KASE</td>\n",
       "      <td>medium_airport</td>\n",
       "      <td>Aspen-Pitkin Co/Sardy Field</td>\n",
       "      <td>7820.0</td>\n",
       "      <td>NaN</td>\n",
       "      <td>US</td>\n",
       "      <td>US-CO</td>\n",
       "      <td>Aspen</td>\n",
       "      <td>KASE</td>\n",
       "      <td>ASE</td>\n",
       "      <td>ASE</td>\n",
       "      <td>-106.8690033, 39.22320175</td>\n",
       "      <td>CO</td>\n",
       "      <td>ASE</td>\n",
       "      <td>CO #ARPT</td>\n",
       "      <td>ASPEN</td>\n",
       "    </tr>\n",
       "    <tr>\n",
       "      <th>4</th>\n",
       "      <td>AIH</td>\n",
       "      <td>small_airport</td>\n",
       "      <td>Aiambak Airport</td>\n",
       "      <td>90.0</td>\n",
       "      <td>OC</td>\n",
       "      <td>PG</td>\n",
       "      <td>PG-WPD</td>\n",
       "      <td>Aiambak</td>\n",
       "      <td>AYAK</td>\n",
       "      <td>AIH</td>\n",
       "      <td>AMB</td>\n",
       "      <td>141.2675, -7.342777777779999</td>\n",
       "      <td>WPD</td>\n",
       "      <td>AMB</td>\n",
       "      <td>ND</td>\n",
       "      <td>AMBROSE</td>\n",
       "    </tr>\n",
       "  </tbody>\n",
       "</table>\n",
       "</div>"
      ],
      "text/plain": [
       "  ident            type                            name  elevation_ft  \\\n",
       "0   48Y   small_airport  Piney Pinecreek Border Airport        1078.0   \n",
       "1   5KE   seaplane_base  Ketchikan Harbor Seaplane Base           NaN   \n",
       "2   AEK   small_airport                   Aseki Airport        4106.0   \n",
       "3  KASE  medium_airport     Aspen-Pitkin Co/Sardy Field        7820.0   \n",
       "4   AIH   small_airport                 Aiambak Airport          90.0   \n",
       "\n",
       "  continent iso_country iso_region municipality gps_code iata_code local_code  \\\n",
       "0       NaN          US      US-MN    Pinecreek      48Y       NaN        48Y   \n",
       "1       NaN          US      US-AK    Ketchikan      NaN       WFB        5KE   \n",
       "2        OC          PG     PG-MPL        Aseki     AYAX       AEK        ASE   \n",
       "3       NaN          US      US-CO        Aspen     KASE       ASE        ASE   \n",
       "4        OC          PG     PG-WPD      Aiambak     AYAK       AIH        AMB   \n",
       "\n",
       "                             coordinates city Port_Code     State  \\\n",
       "0  -95.98259735107422, 48.99959945678711   MN       48Y        MN   \n",
       "1                 -131.677002, 55.349899   AK       5KE        AK   \n",
       "2           146.19386673, -7.35080485552  MPL       ASE  CO #ARPT   \n",
       "3              -106.8690033, 39.22320175   CO       ASE  CO #ARPT   \n",
       "4           141.2675, -7.342777777779999  WPD       AMB        ND   \n",
       "\n",
       "                    City  \n",
       "0  PINECREEK BORDER ARPT  \n",
       "1              KETCHIKAN  \n",
       "2                  ASPEN  \n",
       "3                  ASPEN  \n",
       "4                AMBROSE  "
      ]
     },
     "execution_count": 62,
     "metadata": {},
     "output_type": "execute_result"
    }
   ],
   "source": [
    "df_airport_cd.query('type != \"large_airport\"').merge(df_i94ports_pd,left_on='local_code',right_on='Port_Code').head(5)"
   ]
  },
  {
   "cell_type": "code",
   "execution_count": null,
   "metadata": {
    "editable": true
   },
   "outputs": [],
   "source": [
    "%%time\n",
    "#Grouping By VISATYPE=B2 and sort in descending order\n",
    "df_spark_par.where(df_spark_par.visatype==\"B2\").groupBy(df_spark_par.i94mon).count().sort(\"count\",ascending=False).collect()"
   ]
  },
  {
   "cell_type": "markdown",
   "metadata": {
    "editable": true
   },
   "source": [
    "#### 4.3 Data dictionary \n",
    "Create a data dictionary for your data model. For each field, provide a brief description of what the data is and where it came from. You can include the data dictionary in the notebook or in a separate file."
   ]
  },
  {
   "cell_type": "markdown",
   "metadata": {
    "editable": true
   },
   "source": [
    "#### Step 5: Complete Project Write Up\n",
    "* Clearly state the rationale for the choice of tools and technologies for the project.\n",
    "* Propose how often the data should be updated and why.\n",
    "* Write a description of how you would approach the problem differently under the following scenarios:\n",
    " * The data was increased by 100x.\n",
    " * The data populates a dashboard that must be updated on a daily basis by 7am every day.\n",
    " * The database needed to be accessed by 100+ people."
   ]
  },
  {
   "cell_type": "code",
   "execution_count": null,
   "metadata": {
    "editable": true
   },
   "outputs": [],
   "source": []
  },
  {
   "cell_type": "code",
   "execution_count": null,
   "metadata": {
    "editable": true
   },
   "outputs": [],
   "source": []
  },
  {
   "cell_type": "code",
   "execution_count": null,
   "metadata": {
    "editable": true
   },
   "outputs": [],
   "source": []
  },
  {
   "cell_type": "code",
   "execution_count": null,
   "metadata": {
    "editable": true
   },
   "outputs": [],
   "source": []
  },
  {
   "cell_type": "code",
   "execution_count": null,
   "metadata": {
    "editable": true
   },
   "outputs": [],
   "source": []
  },
  {
   "cell_type": "code",
   "execution_count": null,
   "metadata": {
    "editable": true
   },
   "outputs": [],
   "source": []
  }
 ],
 "metadata": {
  "kernelspec": {
   "display_name": "Python 3",
   "language": "python",
   "name": "python3"
  },
  "language_info": {
   "codemirror_mode": {
    "name": "ipython",
    "version": 3
   },
   "file_extension": ".py",
   "mimetype": "text/x-python",
   "name": "python",
   "nbconvert_exporter": "python",
   "pygments_lexer": "ipython3",
   "version": "3.6.3"
  }
 },
 "nbformat": 4,
 "nbformat_minor": 4
}
